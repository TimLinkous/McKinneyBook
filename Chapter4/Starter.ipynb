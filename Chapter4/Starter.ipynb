{
 "cells": [
  {
   "cell_type": "markdown",
   "id": "70fbe585-ceeb-4914-a8d5-18fd1d422218",
   "metadata": {},
   "source": [
    "# 4  NumPy Basics: Arrays and Vectorized Computation\n",
    "\n",
    "NumPy, short for ***Numerical Python***, is one of the most important foundational packages for numerical computing in Python. Many computational packages providing scientific functionality use NumPy's array objects as one of the standard interface *lingua francas* for data exchange. Much of the knowledge about NumPy that I cover is transferable to pandas as well.\n",
    "\n",
    "Here are some of the things you'll find in NumPy:\n",
    "\n",
    "- ndarray, an efficient multidimensional array providing fast array-oriented arithmetic operations and flexible broadcasting capabilities\n",
    "\n",
    "- Mathematical functions for fast operations on entire arrays of data without having to write loops\n",
    "\n",
    "- Tools for reading/writing array data to disk and working with memory-mapped files\n",
    "\n",
    "- Linear algebra, random number generation, and Fourier transform capabilities\n",
    "\n",
    "- A C API for connecting NumPy with libraries written in C, C++, or FORTRAN\n",
    "\n",
    "Because NumPy provides a comprehensive and well-documented C API, it is straightforward to pass data to external libraries written in a low-level language, and for external libraries to return data to Python as NumPy arrays. This feature has made Python a language of choice for wrapping legacy C, C++, or FORTRAN codebases and giving them a dynamic and accessible interface.\n",
    "\n",
    "While NumPy by itself does not provide modeling or scientific functionality, having an understanding of NumPy arrays and array-oriented computing will help you use tools with array computing semantics, like pandas, much more effectively. \n",
    "\n",
    "For most data analysis applications, the main areas of functionality I’ll focus on are:\n",
    "\n",
    "- Fast array-based operations for data munging and cleaning, subsetting and filtering, transformation, and any other kind of computation\n",
    "\n",
    "- Common array algorithms like sorting, unique, and set operations\n",
    "\n",
    "- Efficient descriptive statistics and aggregating/summarizing data\n",
    "\n",
    "- Data alignment and relational data manipulations for merging and joining heterogeneous datasets\n",
    "\n",
    "- Expressing conditional logic as array expressions instead of loops with `if-elif-else` branches\n",
    "\n",
    "- Group-wise data manipulations (aggregation, transformation, and function application)\n",
    "\n",
    "- \n",
    "\n",
    "While NumPy provides a computational foundation for general numerical data processing, many readers will want to use pandas as the basis for most kinds of statistics or analytics, especially on tabular data. Also, pandas provides some more domain-specific functionality like time series manipulation, which is not present in NumPy.\n",
    "\n",
    "\n",
    "One of the reasons NumPy is so important for numerical computations in Python is because it is designed for efficiency on large arrays of data. There are a number of reasons for this:\n",
    "\n",
    "- NumPy internally stores data in a contiguous block of memory, independent of other built-in Python objects. NumPy's library of algorithms written in the C language can operate on this memory without any type checking or other overhead. NumPy arrays also use much less memory than built-in Python sequences.\n",
    "\n",
    "- NumPy operations perform complex computations on entire arrays without the need for Python `for` loops, which can be slow for large sequences. NumPy is faster than regular Python code because its C-based algorithms avoid overhead present with regular interpreted Python code.\n",
    "\n"
   ]
  },
  {
   "cell_type": "markdown",
   "id": "1d087792-b309-4e3e-bc3c-9b8031a50a9f",
   "metadata": {},
   "source": [
    "## 4.1 The NumPy ndarray: A Multidimensional Array Object\n",
    "\n",
    "One of the key features of NumPy is its N-dimensional array object, or ndarray, which is a fast, flexible container for large datasets in Python. Arrays enable you to perform mathematical operations on whole blocks of data using similar syntax to the equivalent operations between scalar elements.\n",
    "\n",
    "To give you a flavor of how NumPy enables batch computations with similar syntax to scalar values on built-in Python objects, I first import NumPy and create a small array:"
   ]
  },
  {
   "cell_type": "code",
   "execution_count": 1,
   "id": "ae6f8ddd-a250-44c5-afa7-cfc6082889ed",
   "metadata": {},
   "outputs": [
    {
     "data": {
      "text/plain": [
       "array([[ 1.5, -0.1,  3. ],\n",
       "       [ 0. , -3. ,  6.5]])"
      ]
     },
     "execution_count": 1,
     "metadata": {},
     "output_type": "execute_result"
    }
   ],
   "source": [
    "import numpy as np\n",
    "\n",
    "data = np.array([[1.5, -0.1, 3], [0, -3, 6.5]])\n",
    "\n",
    "data"
   ]
  },
  {
   "cell_type": "markdown",
   "id": "0632efc0-65ac-406d-8831-58fecfa33410",
   "metadata": {},
   "source": [
    "I then write mathematical operations with `data`:"
   ]
  },
  {
   "cell_type": "code",
   "execution_count": 3,
   "id": "1b990fa5-8ed5-4ae8-bab3-a54d5a5b03fe",
   "metadata": {},
   "outputs": [
    {
     "data": {
      "text/plain": [
       "array([[ 15.,  -1.,  30.],\n",
       "       [  0., -30.,  65.]])"
      ]
     },
     "execution_count": 3,
     "metadata": {},
     "output_type": "execute_result"
    }
   ],
   "source": [
    "data * 10"
   ]
  },
  {
   "cell_type": "code",
   "execution_count": 4,
   "id": "66eece98-b402-42d9-8d77-4d0000780356",
   "metadata": {},
   "outputs": [
    {
     "data": {
      "text/plain": [
       "array([[ 3. , -0.2,  6. ],\n",
       "       [ 0. , -6. , 13. ]])"
      ]
     },
     "execution_count": 4,
     "metadata": {},
     "output_type": "execute_result"
    }
   ],
   "source": [
    "data + data"
   ]
  },
  {
   "cell_type": "markdown",
   "id": "7663f722-8968-4326-9a16-882a87650be9",
   "metadata": {},
   "source": [
    "In the first example, all of the elements have been multiplied by 10. In the second, the corresponding values in each \"cell\" in the array have been added to each other.\n",
    "\n",
    "\n",
    "An ndarray is a generic multidimensional container for homogeneous data; that is, all of the elements must be the same type. Every array has a `shape`, a tuple indicating the size of each dimension, and a `dtype, an object describing the data type of the array:"
   ]
  },
  {
   "cell_type": "code",
   "execution_count": 5,
   "id": "270fd0e2-8594-4370-ba6d-91acde3e7555",
   "metadata": {},
   "outputs": [
    {
     "data": {
      "text/plain": [
       "(2, 3)"
      ]
     },
     "execution_count": 5,
     "metadata": {},
     "output_type": "execute_result"
    }
   ],
   "source": [
    "data.shape"
   ]
  },
  {
   "cell_type": "code",
   "execution_count": 6,
   "id": "21e3ea39-4549-4be6-b024-2cb4af837726",
   "metadata": {},
   "outputs": [
    {
     "data": {
      "text/plain": [
       "dtype('float64')"
      ]
     },
     "execution_count": 6,
     "metadata": {},
     "output_type": "execute_result"
    }
   ],
   "source": [
    "data.dtype"
   ]
  },
  {
   "cell_type": "markdown",
   "id": "89861524-d9b9-4c13-acc9-91fde67a980b",
   "metadata": {},
   "source": [
    "***Note: Whenever you see “array,” “NumPy array,” or “ndarray” in the book text, in most cases they all refer to the ndarray object.***\n",
    "\n"
   ]
  },
  {
   "cell_type": "markdown",
   "id": "d16c68f2-32c9-47d5-bce2-dfcb243f5890",
   "metadata": {},
   "source": [
    "### Creating ndarrays\n",
    "\n",
    "The easiest way to create an array is to use the `array` function. This accepts any sequence-like object (including other arrays) and produces a new NumPy array containing the passed data. For example, a list is a good candidate for conversion:"
   ]
  },
  {
   "cell_type": "code",
   "execution_count": 7,
   "id": "480d8aaf-7ea9-4a3d-bc36-cc0899744cfc",
   "metadata": {},
   "outputs": [
    {
     "data": {
      "text/plain": [
       "array([6. , 7.5, 8. , 0. , 1. ])"
      ]
     },
     "execution_count": 7,
     "metadata": {},
     "output_type": "execute_result"
    }
   ],
   "source": [
    "data1 = [6, 7.5, 8, 0, 1]\n",
    "\n",
    "arr1 = np.array(data1)\n",
    "\n",
    "arr1"
   ]
  },
  {
   "cell_type": "markdown",
   "id": "93bdad45-9802-40bc-a2ad-b6c4bfca6205",
   "metadata": {},
   "source": [
    "Nested sequences, like a list of equal-length lists, will be converted into a multidimensional array:"
   ]
  },
  {
   "cell_type": "code",
   "execution_count": 8,
   "id": "5e8fa7fc-2ed2-4f5c-bcc8-79662688777f",
   "metadata": {},
   "outputs": [
    {
     "data": {
      "text/plain": [
       "array([[1, 2, 3, 4],\n",
       "       [5, 6, 7, 8]])"
      ]
     },
     "execution_count": 8,
     "metadata": {},
     "output_type": "execute_result"
    }
   ],
   "source": [
    "data2 = [[1, 2, 3, 4], [5, 6, 7, 8]]\n",
    "\n",
    "arr2 = np.array(data2)\n",
    "arr2"
   ]
  },
  {
   "cell_type": "markdown",
   "id": "1a05ca0b-37eb-49c5-a50b-0bbe10d7aea0",
   "metadata": {},
   "source": [
    "Since `data2` was a list of lists, the NumPy array `arr2` has two dimensions, with shape inferred from the data. We can confirm this by inspecting the `ndim` and `shape` attributes:"
   ]
  },
  {
   "cell_type": "code",
   "execution_count": 10,
   "id": "3e937ce9-8988-4faa-96e4-4ae431780759",
   "metadata": {},
   "outputs": [
    {
     "data": {
      "text/plain": [
       "2"
      ]
     },
     "execution_count": 10,
     "metadata": {},
     "output_type": "execute_result"
    }
   ],
   "source": [
    "arr2.ndim"
   ]
  },
  {
   "cell_type": "code",
   "execution_count": 12,
   "id": "795fe2fe-1121-416e-a4b9-b3da33f71381",
   "metadata": {},
   "outputs": [
    {
     "data": {
      "text/plain": [
       "(2, 4)"
      ]
     },
     "execution_count": 12,
     "metadata": {},
     "output_type": "execute_result"
    }
   ],
   "source": [
    "arr2.shape"
   ]
  },
  {
   "cell_type": "markdown",
   "id": "84ff2a38-9fab-4bb6-b1c1-75386a5ab19e",
   "metadata": {},
   "source": [
    "Unless explicitly specified (discussed in Data Types for ndarrays), `numpy.array` tries to infer a good data type for the array that it creates. The data type is stored in a special `dtype` metadata object; for example, in the previous two examples we have:"
   ]
  },
  {
   "cell_type": "code",
   "execution_count": 13,
   "id": "f1ed0ffa-1c26-4e7c-a758-2c02df8db8b2",
   "metadata": {},
   "outputs": [
    {
     "data": {
      "text/plain": [
       "dtype('float64')"
      ]
     },
     "execution_count": 13,
     "metadata": {},
     "output_type": "execute_result"
    }
   ],
   "source": [
    "arr1.dtype"
   ]
  },
  {
   "cell_type": "code",
   "execution_count": 14,
   "id": "8099c1e3-c153-4ce3-a9ff-e87bdfd08e70",
   "metadata": {},
   "outputs": [
    {
     "data": {
      "text/plain": [
       "dtype('int64')"
      ]
     },
     "execution_count": 14,
     "metadata": {},
     "output_type": "execute_result"
    }
   ],
   "source": [
    "arr2.dtype"
   ]
  },
  {
   "cell_type": "markdown",
   "id": "6354d466-4d93-45e5-972c-c1e34f44ad0f",
   "metadata": {},
   "source": [
    "In addition to `numpy.array`, there are a number of other functions for creating new arrays. As examples, `numpy.zeros` and `numpy.ones` create arrays of 0s or 1s, respectively, with a given length or shape. `numpy.empty` creates an array without initializing its values to any particular value. To create a higher dimensional array with these methods, pass a tuple for the shape:"
   ]
  },
  {
   "cell_type": "code",
   "execution_count": 15,
   "id": "dc8599a4-de1b-4d2f-a619-657062d6806a",
   "metadata": {},
   "outputs": [
    {
     "data": {
      "text/plain": [
       "array([0., 0., 0., 0., 0., 0., 0., 0., 0., 0.])"
      ]
     },
     "execution_count": 15,
     "metadata": {},
     "output_type": "execute_result"
    }
   ],
   "source": [
    "np.zeros(10)"
   ]
  },
  {
   "cell_type": "code",
   "execution_count": 16,
   "id": "f0eb9ae6-c1ed-492e-b6fc-ba17ec444c32",
   "metadata": {},
   "outputs": [
    {
     "data": {
      "text/plain": [
       "array([[0., 0., 0., 0., 0., 0.],\n",
       "       [0., 0., 0., 0., 0., 0.],\n",
       "       [0., 0., 0., 0., 0., 0.]])"
      ]
     },
     "execution_count": 16,
     "metadata": {},
     "output_type": "execute_result"
    }
   ],
   "source": [
    "np.zeros((3,6))"
   ]
  },
  {
   "cell_type": "code",
   "execution_count": 17,
   "id": "b3dfd357-0948-4d12-b779-7d814123dde4",
   "metadata": {},
   "outputs": [
    {
     "data": {
      "text/plain": [
       "array([[[-1.28822975e-231, -1.28822975e-231],\n",
       "        [ 2.96439388e-323,  0.00000000e+000],\n",
       "        [ 0.00000000e+000,  1.31370903e-076]],\n",
       "\n",
       "       [[ 7.73901886e-091,  4.50235751e+174],\n",
       "        [ 2.36716120e+179,  3.88578734e-057],\n",
       "        [ 3.99910963e+252,  8.34402861e-309]]])"
      ]
     },
     "execution_count": 17,
     "metadata": {},
     "output_type": "execute_result"
    }
   ],
   "source": [
    "np.empty((2, 3, 2))"
   ]
  },
  {
   "cell_type": "markdown",
   "id": "e8c73914-a489-46eb-9703-568d4cd5f1e7",
   "metadata": {},
   "source": [
    "It’s not safe to assume that `numpy.empty` will return an array of all zeros. This function returns uninitialized memory and thus may contain nonzero \"garbage\" values. You should use this function only if you intend to populate the new array with data.\n",
    "\n"
   ]
  },
  {
   "cell_type": "markdown",
   "id": "1d07f099-b807-4934-bc1c-c1cbae44f168",
   "metadata": {},
   "source": [
    "`numpy.arange` is an array-valued version of the built-in **Python `range` function**:"
   ]
  },
  {
   "cell_type": "code",
   "execution_count": 18,
   "id": "f1250c0d-d010-4eb4-8042-a4fd86750740",
   "metadata": {},
   "outputs": [
    {
     "data": {
      "text/plain": [
       "array([ 0,  1,  2,  3,  4,  5,  6,  7,  8,  9, 10, 11, 12, 13, 14])"
      ]
     },
     "execution_count": 18,
     "metadata": {},
     "output_type": "execute_result"
    }
   ],
   "source": [
    "np.arange(15)"
   ]
  },
  {
   "cell_type": "markdown",
   "id": "1eb78881-6c68-4af8-b158-296a195769e4",
   "metadata": {},
   "source": [
    "See [Table 4.1](https://wesmckinney.com/book/numpy-basics#tbl-table_array_ctor) for a short list of standard array creation functions. Since NumPy is focused on numerical computing, the data type, if not specified, will in many cases be *float64* (floating point).\n",
    "\n",
    "\n",
    "### Data Types for ndarrays\n",
    "\n",
    "The data type or `dtype` is a special object containing the information (or *metadata*, data about data) the ndarray needs to interpret a chunk of memory as a particular type of data:"
   ]
  },
  {
   "cell_type": "code",
   "execution_count": 20,
   "id": "217816bf-6b74-4a36-aad7-9a0f4376df3f",
   "metadata": {},
   "outputs": [
    {
     "data": {
      "text/plain": [
       "dtype('float64')"
      ]
     },
     "execution_count": 20,
     "metadata": {},
     "output_type": "execute_result"
    }
   ],
   "source": [
    "arr1 = np.array([1, 2, 3], dtype=np.float64)\n",
    "\n",
    "arr2 = np.array([1, 2, 3], dtype=np.int32)\n",
    "\n",
    "arr1.dtype"
   ]
  },
  {
   "cell_type": "code",
   "execution_count": 21,
   "id": "13b224f4-a157-4633-ac39-862e3229cddd",
   "metadata": {},
   "outputs": [
    {
     "data": {
      "text/plain": [
       "dtype('int32')"
      ]
     },
     "execution_count": 21,
     "metadata": {},
     "output_type": "execute_result"
    }
   ],
   "source": [
    "arr2.dtype"
   ]
  },
  {
   "cell_type": "markdown",
   "id": "a1bce744-821e-4d25-a4b0-c1ae90907cd2",
   "metadata": {},
   "source": [
    "Data types are a source of NumPy's flexibility for interacting with data coming from other systems. In most cases they provide a mapping directly onto an underlying disk or memory representation, which makes it possible to read and write binary streams of data to disk and to connect to code written in a low-level language like C or FORTRAN. The numerical data types are named the same way: a type name, like `float` or `int`, followed by a number indicating the number of bits per element. A standard double-precision floating-point value (what’s used under the hood in Python’s float object) takes up 8 bytes or 64 bits. Thus, this type is known in NumPy as `float64`. See **Table 4.2** for a full listing of NumPy’s supported data types.\n",
    "\n",
    "\n",
    "##### [Table 4.2: NumPy data types](https://wesmckinney.com/book/numpy-basics#tbl-table_array_dtypes)\n",
    "\n",
    "\n",
    "You can explicitly convert or *cast* an array from one data type to another using ndarray’s `astype` method:"
   ]
  },
  {
   "cell_type": "code",
   "execution_count": 22,
   "id": "f92bd9a4-a1d6-442a-8bea-edda20721da5",
   "metadata": {},
   "outputs": [
    {
     "data": {
      "text/plain": [
       "dtype('int64')"
      ]
     },
     "execution_count": 22,
     "metadata": {},
     "output_type": "execute_result"
    }
   ],
   "source": [
    "arr = np.array([1, 2, 3, 4, 5])\n",
    "arr.dtype"
   ]
  },
  {
   "cell_type": "code",
   "execution_count": 24,
   "id": "75ceb380-9f35-4f57-a1a9-dcd59dbcb389",
   "metadata": {},
   "outputs": [
    {
     "data": {
      "text/plain": [
       "array([1., 2., 3., 4., 5.])"
      ]
     },
     "execution_count": 24,
     "metadata": {},
     "output_type": "execute_result"
    }
   ],
   "source": [
    "float_arr = arr.astype(np.float64)\n",
    "float_arr"
   ]
  },
  {
   "cell_type": "code",
   "execution_count": 25,
   "id": "bb7e43e9-6a73-45e4-969d-508cec310a03",
   "metadata": {},
   "outputs": [
    {
     "data": {
      "text/plain": [
       "dtype('float64')"
      ]
     },
     "execution_count": 25,
     "metadata": {},
     "output_type": "execute_result"
    }
   ],
   "source": [
    "float_arr.dtype"
   ]
  },
  {
   "cell_type": "markdown",
   "id": "96da349a-ee5d-47c9-a108-ccbeb2e0145f",
   "metadata": {},
   "source": [
    "In this example, integers were cast to floating point. If I cast some floating-point numbers to be of integer data type, the decimal part will be truncated:"
   ]
  },
  {
   "cell_type": "code",
   "execution_count": 26,
   "id": "9a50e24a-81e2-4cae-9cb2-faba400f931c",
   "metadata": {},
   "outputs": [
    {
     "data": {
      "text/plain": [
       "array([ 3.7, -1.2, -2.6,  0.5, 12.9, 10.1])"
      ]
     },
     "execution_count": 26,
     "metadata": {},
     "output_type": "execute_result"
    }
   ],
   "source": [
    "arr = np.array([3.7, -1.2, -2.6, 0.5, 12.9, 10.1])\n",
    "\n",
    "arr"
   ]
  },
  {
   "cell_type": "code",
   "execution_count": 27,
   "id": "3b3afa0f-8e16-45ac-b977-a7964b31aaa1",
   "metadata": {},
   "outputs": [
    {
     "data": {
      "text/plain": [
       "array([ 3, -1, -2,  0, 12, 10], dtype=int32)"
      ]
     },
     "execution_count": 27,
     "metadata": {},
     "output_type": "execute_result"
    }
   ],
   "source": [
    "arr.astype(np.int32)"
   ]
  },
  {
   "cell_type": "markdown",
   "id": "285d95ca-42f1-451c-b32e-73a92f99b248",
   "metadata": {},
   "source": [
    "If you have an array of strings representing numbers, you can use `astype` to convert them to numeric form:"
   ]
  },
  {
   "cell_type": "code",
   "execution_count": 29,
   "id": "fbb3af81-2fd7-41e9-85ce-65de6b0b09c6",
   "metadata": {},
   "outputs": [
    {
     "data": {
      "text/plain": [
       "array([ 1.25, -9.6 , 42.  ])"
      ]
     },
     "execution_count": 29,
     "metadata": {},
     "output_type": "execute_result"
    }
   ],
   "source": [
    "numeric_strings = np.array([\"1.25\", \"-9.6\", \"42\"], dtype=np.string_)\n",
    "\n",
    "numeric_strings.astype(float)"
   ]
  },
  {
   "cell_type": "markdown",
   "id": "46f8ca89-c5cc-418e-84dc-91d579414817",
   "metadata": {},
   "source": [
    "Be cautious when using the `numpy.string_` type, as string data in NumPy is fixed size and may truncate input without warning. pandas has more intuitive out-of-the-box behavior on non-numeric data."
   ]
  },
  {
   "cell_type": "markdown",
   "id": "ea33ed1a-5951-4d64-bd5f-9ec4760ba0bf",
   "metadata": {},
   "source": [
    "If casting were to fail for some reason (like a string that cannot be converted to `float64`), a `ValueError` will be raised. Before, I was a bit lazy and wrote `float` instead of `np.float64`; NumPy aliases the Python types to its own equivalent data types.\n",
    "\n",
    "You can also use another array’s `dtype` attribute:"
   ]
  },
  {
   "cell_type": "code",
   "execution_count": 30,
   "id": "36c7573e-0a5e-41fe-aec6-aa541e5c9a31",
   "metadata": {},
   "outputs": [
    {
     "data": {
      "text/plain": [
       "array([0., 1., 2., 3., 4., 5., 6., 7., 8., 9.])"
      ]
     },
     "execution_count": 30,
     "metadata": {},
     "output_type": "execute_result"
    }
   ],
   "source": [
    "int_array = np.arange(10)\n",
    "\n",
    "calibers = np.array([.22, .270, .357, .380, .44, .50], dtype=np.float64)\n",
    "int_array.astype(calibers.dtype)"
   ]
  },
  {
   "cell_type": "markdown",
   "id": "e13a073f-1c98-4362-9556-f5acacf04d8e",
   "metadata": {},
   "source": [
    "There are shorthand type code strings you can also use to refer to a `dtype`:"
   ]
  },
  {
   "cell_type": "code",
   "execution_count": 32,
   "id": "14db9c2b-91ff-4c08-8052-be622e03fdb7",
   "metadata": {},
   "outputs": [
    {
     "data": {
      "text/plain": [
       "array([0, 0, 0, 0, 0, 0, 0, 0], dtype=uint32)"
      ]
     },
     "execution_count": 32,
     "metadata": {},
     "output_type": "execute_result"
    }
   ],
   "source": [
    "zeros_unit32 = np.zeros(8, dtype=\"u4\")\n",
    "\n",
    "zeros_unit32"
   ]
  },
  {
   "cell_type": "markdown",
   "id": "4f8a80c0-6ede-4e25-be2a-4253bec8b5c9",
   "metadata": {},
   "source": [
    "Calling `astype` ***always*** creates a new array (a copy of the data), even if the new data type is the same as the old data type."
   ]
  },
  {
   "cell_type": "markdown",
   "id": "734cd60d-5bec-437c-8ee0-255b0a5b9656",
   "metadata": {},
   "source": [
    "### Arithmetic with NumPy Arrays\n",
    "\n",
    "Arrays are important because they enable you to express batch operations on data without writing any `for` loops. NumPy users call this *vectorization*. Any arithmetic operations between equal-size arrays apply the operation element-wise:"
   ]
  },
  {
   "cell_type": "code",
   "execution_count": 33,
   "id": "48b2a7f4-625e-4878-b0c0-e77231934fc0",
   "metadata": {},
   "outputs": [
    {
     "data": {
      "text/plain": [
       "array([[1., 2., 3.],\n",
       "       [4., 5., 6.]])"
      ]
     },
     "execution_count": 33,
     "metadata": {},
     "output_type": "execute_result"
    }
   ],
   "source": [
    "arr = np.array([[1., 2., 3.], [4., 5., 6.]])\n",
    "arr"
   ]
  },
  {
   "cell_type": "code",
   "execution_count": 34,
   "id": "75a05c90-285a-4596-9f11-88946260a2b9",
   "metadata": {},
   "outputs": [
    {
     "data": {
      "text/plain": [
       "array([[ 1.,  4.,  9.],\n",
       "       [16., 25., 36.]])"
      ]
     },
     "execution_count": 34,
     "metadata": {},
     "output_type": "execute_result"
    }
   ],
   "source": [
    "arr * arr"
   ]
  },
  {
   "cell_type": "code",
   "execution_count": 35,
   "id": "3f6d693b-1a06-4735-a594-d14bc4b8fe1e",
   "metadata": {},
   "outputs": [
    {
     "data": {
      "text/plain": [
       "array([[0., 0., 0.],\n",
       "       [0., 0., 0.]])"
      ]
     },
     "execution_count": 35,
     "metadata": {},
     "output_type": "execute_result"
    }
   ],
   "source": [
    "arr - arr"
   ]
  },
  {
   "cell_type": "markdown",
   "id": "d3131f75-b0f2-4c7c-add7-b98e9d6daec3",
   "metadata": {},
   "source": [
    "Arithmetic operations with scalars propagate the scalar argument to each element in the array:"
   ]
  },
  {
   "cell_type": "code",
   "execution_count": 36,
   "id": "d62f0283-5af5-4459-bc94-4d9efeb07582",
   "metadata": {},
   "outputs": [
    {
     "data": {
      "text/plain": [
       "array([[1.        , 0.5       , 0.33333333],\n",
       "       [0.25      , 0.2       , 0.16666667]])"
      ]
     },
     "execution_count": 36,
     "metadata": {},
     "output_type": "execute_result"
    }
   ],
   "source": [
    "1 / arr"
   ]
  },
  {
   "cell_type": "code",
   "execution_count": 37,
   "id": "6cc67a66-5fa8-449e-ae48-e98d0544818e",
   "metadata": {},
   "outputs": [
    {
     "data": {
      "text/plain": [
       "array([[ 1.,  4.,  9.],\n",
       "       [16., 25., 36.]])"
      ]
     },
     "execution_count": 37,
     "metadata": {},
     "output_type": "execute_result"
    }
   ],
   "source": [
    "arr ** 2"
   ]
  },
  {
   "cell_type": "markdown",
   "id": "fc50dde3-52ae-46ab-a885-b59a3f6ec2a7",
   "metadata": {},
   "source": [
    "Comparisons between arrays of the same size yield Boolean arrays:"
   ]
  },
  {
   "cell_type": "code",
   "execution_count": 38,
   "id": "efdd8061-d46d-45ec-a0b3-38a8d683776b",
   "metadata": {},
   "outputs": [
    {
     "data": {
      "text/plain": [
       "array([[ 0.,  4.,  1.],\n",
       "       [ 7.,  2., 12.]])"
      ]
     },
     "execution_count": 38,
     "metadata": {},
     "output_type": "execute_result"
    }
   ],
   "source": [
    "arr2 = np.array([[0., 4., 1.], [7., 2., 12.]])\n",
    "arr2"
   ]
  },
  {
   "cell_type": "code",
   "execution_count": 39,
   "id": "e924edcf-ba14-4484-a743-7e662ee2e471",
   "metadata": {},
   "outputs": [
    {
     "data": {
      "text/plain": [
       "array([[False,  True, False],\n",
       "       [ True, False,  True]])"
      ]
     },
     "execution_count": 39,
     "metadata": {},
     "output_type": "execute_result"
    }
   ],
   "source": [
    "arr2 > arr1"
   ]
  },
  {
   "cell_type": "code",
   "execution_count": null,
   "id": "26bd043a-2572-425c-94b5-91c42e717939",
   "metadata": {},
   "outputs": [],
   "source": [
    "Evaluating operations between differently sized arrays is called *broadcasting*."
   ]
  },
  {
   "cell_type": "markdown",
   "id": "2983665a-8d19-48ea-96bb-addc1a26aa0e",
   "metadata": {},
   "source": [
    "### Basic Indexing and Slicing\n",
    "\n",
    "NumPy array indexing is a deep topic, as there are many ways you may want to select a subset of your data or individual elements. One-dimensional arrays are simple; on the surface they act similarly to Python lists:"
   ]
  },
  {
   "cell_type": "code",
   "execution_count": 40,
   "id": "243564a2-cddd-4803-a721-cf766208df6d",
   "metadata": {},
   "outputs": [
    {
     "data": {
      "text/plain": [
       "array([0, 1, 2, 3, 4, 5, 6, 7, 8, 9])"
      ]
     },
     "execution_count": 40,
     "metadata": {},
     "output_type": "execute_result"
    }
   ],
   "source": [
    "arr = np.arange(10)\n",
    "arr"
   ]
  },
  {
   "cell_type": "code",
   "execution_count": 41,
   "id": "0a313647-9853-4698-acbf-c4830650c10e",
   "metadata": {},
   "outputs": [
    {
     "data": {
      "text/plain": [
       "5"
      ]
     },
     "execution_count": 41,
     "metadata": {},
     "output_type": "execute_result"
    }
   ],
   "source": [
    "arr[5]"
   ]
  },
  {
   "cell_type": "code",
   "execution_count": 42,
   "id": "a5036c30-77ec-4862-a9ed-094824cfa1a1",
   "metadata": {},
   "outputs": [
    {
     "data": {
      "text/plain": [
       "array([5, 6, 7])"
      ]
     },
     "execution_count": 42,
     "metadata": {},
     "output_type": "execute_result"
    }
   ],
   "source": [
    "arr[5:8]"
   ]
  },
  {
   "cell_type": "code",
   "execution_count": 46,
   "id": "0fe36206-08e3-4bf5-bb92-23f884087488",
   "metadata": {},
   "outputs": [
    {
     "data": {
      "text/plain": [
       "array([ 0,  1,  2,  3,  4, 12, 12, 12,  8,  9])"
      ]
     },
     "execution_count": 46,
     "metadata": {},
     "output_type": "execute_result"
    }
   ],
   "source": [
    "arr[5:8] = 12\n",
    "arr"
   ]
  },
  {
   "cell_type": "markdown",
   "id": "196aa9c3-8f66-43ef-8a99-f53f0c86a4d2",
   "metadata": {},
   "source": [
    "As you can see, if you assign a scalar value to a slice, as in `arr[5:8] = 12`, the value is propagated (or *broadcast* henceforth) to the entire selection.\n",
    "\n",
    "**Note**: An important first distinction from Python's built-in lists is that array slices are views on the original array. This means that the data is not copied, and any modifications to the view will be reflected in the source array.\n",
    "\n",
    "To give an example of this, I first create a slice of `arr`:"
   ]
  },
  {
   "cell_type": "code",
   "execution_count": 47,
   "id": "842c4ec5-6278-4b41-9d3a-3b0ffb34dfc4",
   "metadata": {},
   "outputs": [
    {
     "data": {
      "text/plain": [
       "array([12, 12, 12])"
      ]
     },
     "execution_count": 47,
     "metadata": {},
     "output_type": "execute_result"
    }
   ],
   "source": [
    "arr_slice = arr[5:8]\n",
    "arr_slice"
   ]
  },
  {
   "cell_type": "markdown",
   "id": "79719ae2-8b41-4df6-a615-54636eb66ef6",
   "metadata": {},
   "source": [
    "Now, when I change values in `arr_slice`, the mutations are reflected in the original array `arr`:"
   ]
  },
  {
   "cell_type": "code",
   "execution_count": 48,
   "id": "57c5ed8c-2393-4603-8d74-a8fdc2ef04a6",
   "metadata": {},
   "outputs": [
    {
     "data": {
      "text/plain": [
       "array([    0,     1,     2,     3,     4,    12, 12345,    12,     8,\n",
       "           9])"
      ]
     },
     "execution_count": 48,
     "metadata": {},
     "output_type": "execute_result"
    }
   ],
   "source": [
    "arr_slice[1] = 12345\n",
    "arr"
   ]
  },
  {
   "cell_type": "markdown",
   "id": "cb607763-3bed-469e-aa1e-96f7bac40efa",
   "metadata": {},
   "source": [
    "The \"bare\" slice `[:]` will assign to all values in an array:"
   ]
  },
  {
   "cell_type": "code",
   "execution_count": 50,
   "id": "19c75726-3867-4062-9051-2fa64f8b35bc",
   "metadata": {},
   "outputs": [
    {
     "data": {
      "text/plain": [
       "array([ 0,  1,  2,  3,  4, 64, 64, 64,  8,  9])"
      ]
     },
     "execution_count": 50,
     "metadata": {},
     "output_type": "execute_result"
    }
   ],
   "source": [
    "arr_slice[:] = 64\n",
    "arr"
   ]
  },
  {
   "cell_type": "markdown",
   "id": "cbfccc8b-84cd-433b-9f91-2840819d2efa",
   "metadata": {},
   "source": [
    "If you are new to NumPy, you might be surprised by this, especially if you have used other array programming languages that copy data more eagerly. As NumPy has been designed to be able to work with very large arrays, you could imagine performance and memory problems if NumPy insisted on always copying data.\n",
    "\n",
    "**Note**: If you want a copy of a slice of an ndarray instead of a view, you will need to explicitly copy the array—for example, `arr[5:8].copy()`. As you will see, pandas works this way, too.\n",
    "\n",
    "\n",
    "With higher dimensional arrays, you have many more options. In a two-dimensional array, the elements at each index are no longer scalars but rather one-dimensional arrays:"
   ]
  },
  {
   "cell_type": "code",
   "execution_count": 51,
   "id": "b484f47d-1049-4a69-b08b-2d83b50a512b",
   "metadata": {},
   "outputs": [
    {
     "data": {
      "text/plain": [
       "array([7, 8, 9])"
      ]
     },
     "execution_count": 51,
     "metadata": {},
     "output_type": "execute_result"
    }
   ],
   "source": [
    "arr2d = np.array([[1, 2, 3], [4, 5,6], [7, 8, 9]])\n",
    "arr2d[2]"
   ]
  },
  {
   "cell_type": "markdown",
   "id": "d88d85c4-d82b-4a79-bfdc-f9e338f9c205",
   "metadata": {},
   "source": [
    "Thus, individual elements can be accessed recursively. But that is a bit too much work, so you can pass a comma-separated list of indices to select individual elements. So these are equivalent:"
   ]
  },
  {
   "cell_type": "code",
   "execution_count": 63,
   "id": "efd8e3ba-67ef-47e6-b396-9db7cd8e2496",
   "metadata": {},
   "outputs": [
    {
     "data": {
      "text/plain": [
       "3"
      ]
     },
     "execution_count": 63,
     "metadata": {},
     "output_type": "execute_result"
    }
   ],
   "source": [
    "arr2d[0][2]"
   ]
  },
  {
   "cell_type": "code",
   "execution_count": 62,
   "id": "94c0a8ca-096d-4cec-aa89-d0795692f63c",
   "metadata": {},
   "outputs": [
    {
     "data": {
      "text/plain": [
       "3"
      ]
     },
     "execution_count": 62,
     "metadata": {},
     "output_type": "execute_result"
    }
   ],
   "source": [
    "arr2d[0, 2]"
   ]
  },
  {
   "cell_type": "markdown",
   "id": "1a454616-697f-4f85-9c56-b3c40ad09dcc",
   "metadata": {},
   "source": [
    "See **[Figure 4.1](https://wesmckinney.com/book/numpy-basics#fig-figure_ndarray_indexing)** for an illustration of indexing on a two-dimensional array. I find it helpful to think of **axis 0** as the *\"rows\"* of the array and **axis 1** as the *\"columns.\"*"
   ]
  },
  {
   "cell_type": "markdown",
   "id": "7d6f1814-5723-4061-be67-4677f3970f87",
   "metadata": {},
   "source": [
    "In multidimensional arrays, if you omit later indices, the returned object will be a lower dimensional ndarray consisting of all the data along the higher dimensions. So in the 2 × 2 × 3 array `arr3d`:"
   ]
  },
  {
   "cell_type": "code",
   "execution_count": 71,
   "id": "53aa2bae-2580-441a-a606-259fc32fc3a7",
   "metadata": {},
   "outputs": [],
   "source": [
    "arr3d = np.array([[[1, 2, 3], [4, 5, 6]], [[7, 8, 9], [10, 11, 12]]])"
   ]
  },
  {
   "cell_type": "code",
   "execution_count": 72,
   "id": "20e6e389-a296-40c3-ba16-6b58e08c78f6",
   "metadata": {},
   "outputs": [
    {
     "data": {
      "text/plain": [
       "array([[[ 1,  2,  3],\n",
       "        [ 4,  5,  6]],\n",
       "\n",
       "       [[ 7,  8,  9],\n",
       "        [10, 11, 12]]])"
      ]
     },
     "execution_count": 72,
     "metadata": {},
     "output_type": "execute_result"
    }
   ],
   "source": [
    "arr3d"
   ]
  },
  {
   "cell_type": "markdown",
   "id": "ec595273-f98a-4349-87e3-2c2cca7c50e4",
   "metadata": {},
   "source": [
    "`arr3d[0]` is a 2 × 3 array:"
   ]
  },
  {
   "cell_type": "code",
   "execution_count": 73,
   "id": "c5111893-724d-4dba-8c12-b17f4f098f32",
   "metadata": {},
   "outputs": [
    {
     "data": {
      "text/plain": [
       "array([[1, 2, 3],\n",
       "       [4, 5, 6]])"
      ]
     },
     "execution_count": 73,
     "metadata": {},
     "output_type": "execute_result"
    }
   ],
   "source": [
    "arr3d[0]"
   ]
  },
  {
   "cell_type": "markdown",
   "id": "7a24b48d-48c7-4373-8ce5-1faed7bed8e6",
   "metadata": {},
   "source": [
    "Both scalar values and arrays can be assigned to `arr3d[0]`:"
   ]
  },
  {
   "cell_type": "code",
   "execution_count": 74,
   "id": "b7d7ab53-f2be-4107-be7e-9b30d4b13443",
   "metadata": {},
   "outputs": [
    {
     "data": {
      "text/plain": [
       "array([[[42, 42, 42],\n",
       "        [42, 42, 42]],\n",
       "\n",
       "       [[ 7,  8,  9],\n",
       "        [10, 11, 12]]])"
      ]
     },
     "execution_count": 74,
     "metadata": {},
     "output_type": "execute_result"
    }
   ],
   "source": [
    "old_values = arr3d[0].copy()\n",
    "\n",
    "arr3d[0] = 42\n",
    "\n",
    "arr3d"
   ]
  },
  {
   "cell_type": "code",
   "execution_count": 76,
   "id": "706a84e2-39dc-45e0-86db-7cbec8b6dc37",
   "metadata": {},
   "outputs": [
    {
     "data": {
      "text/plain": [
       "array([[[ 1,  2,  3],\n",
       "        [ 4,  5,  6]],\n",
       "\n",
       "       [[ 7,  8,  9],\n",
       "        [10, 11, 12]]])"
      ]
     },
     "execution_count": 76,
     "metadata": {},
     "output_type": "execute_result"
    }
   ],
   "source": [
    "arr3d[0] = old_values\n",
    "arr3d"
   ]
  },
  {
   "cell_type": "markdown",
   "id": "795347b9-c87e-4749-95d3-eae0b216b27b",
   "metadata": {},
   "source": [
    "Similarly, `arr3d[1, 0]` gives you all of the values whose indices start with `(1, 0)`, forming a one-dimensional array:"
   ]
  },
  {
   "cell_type": "code",
   "execution_count": 77,
   "id": "16eb507b-6797-4c5c-a0bf-b9e8bb78f6d1",
   "metadata": {},
   "outputs": [
    {
     "data": {
      "text/plain": [
       "array([7, 8, 9])"
      ]
     },
     "execution_count": 77,
     "metadata": {},
     "output_type": "execute_result"
    }
   ],
   "source": [
    "arr3d[1,0]"
   ]
  },
  {
   "cell_type": "code",
   "execution_count": 78,
   "id": "6f41dbb6-2ae3-4be6-9c88-d3b7177e8135",
   "metadata": {},
   "outputs": [
    {
     "data": {
      "text/plain": [
       "array([[ 7,  8,  9],\n",
       "       [10, 11, 12]])"
      ]
     },
     "execution_count": 78,
     "metadata": {},
     "output_type": "execute_result"
    }
   ],
   "source": [
    "x = arr3d[1]\n",
    "x"
   ]
  },
  {
   "cell_type": "code",
   "execution_count": 79,
   "id": "cf441ce3-6689-442b-8e4a-dedb320e94d1",
   "metadata": {},
   "outputs": [
    {
     "data": {
      "text/plain": [
       "array([7, 8, 9])"
      ]
     },
     "execution_count": 79,
     "metadata": {},
     "output_type": "execute_result"
    }
   ],
   "source": [
    "x[0]"
   ]
  },
  {
   "cell_type": "markdown",
   "id": "d777b8b3-2b85-4098-b158-2375404728f4",
   "metadata": {},
   "source": [
    "Note that in all of these cases where subsections of the array have been selected, the returned arrays are views.\n",
    "\n",
    "\n",
    "#### Indexing with slices\n",
    "\n",
    "Like one-dimensional objects such as Python lists, ndarrays can be sliced with the familiar syntax:\n",
    "\n"
   ]
  },
  {
   "cell_type": "code",
   "execution_count": 81,
   "id": "8a1c3bca-0631-4dcb-8053-14a1e90c2f9a",
   "metadata": {},
   "outputs": [
    {
     "data": {
      "text/plain": [
       "array([ 0,  1,  2,  3,  4, 64, 64, 64,  8,  9])"
      ]
     },
     "execution_count": 81,
     "metadata": {},
     "output_type": "execute_result"
    }
   ],
   "source": [
    "arr"
   ]
  },
  {
   "cell_type": "code",
   "execution_count": 82,
   "id": "7ad9b80b-ebf0-4cc3-8bc6-c5af5038b2e5",
   "metadata": {},
   "outputs": [
    {
     "data": {
      "text/plain": [
       "array([ 1,  2,  3,  4, 64])"
      ]
     },
     "execution_count": 82,
     "metadata": {},
     "output_type": "execute_result"
    }
   ],
   "source": [
    "arr[1:6] "
   ]
  },
  {
   "cell_type": "markdown",
   "id": "79eabe7f-3d2e-4fb6-a53a-f1067886e53a",
   "metadata": {},
   "source": [
    "Consider the two-dimensional array from before, arr2d. Slicing this array is a bit different:\n"
   ]
  },
  {
   "cell_type": "code",
   "execution_count": 83,
   "id": "533b1e2d-f03e-44d1-b5d8-788833e7f802",
   "metadata": {},
   "outputs": [
    {
     "data": {
      "text/plain": [
       "array([[1, 2, 3],\n",
       "       [4, 5, 6],\n",
       "       [7, 8, 9]])"
      ]
     },
     "execution_count": 83,
     "metadata": {},
     "output_type": "execute_result"
    }
   ],
   "source": [
    "arr2d"
   ]
  },
  {
   "cell_type": "code",
   "execution_count": 84,
   "id": "1cf60f3e-8ae0-4f74-ae7f-6289dd4ae45f",
   "metadata": {},
   "outputs": [
    {
     "data": {
      "text/plain": [
       "array([[1, 2, 3],\n",
       "       [4, 5, 6]])"
      ]
     },
     "execution_count": 84,
     "metadata": {},
     "output_type": "execute_result"
    }
   ],
   "source": [
    "arr2d[:2]"
   ]
  },
  {
   "cell_type": "markdown",
   "id": "ebae09e3-5a7e-474e-8d5d-8cb25bb24a69",
   "metadata": {},
   "source": [
    "As you can see, it has sliced along axis 0, the first axis. A slice, therefore, selects a range of elements along an axis. It can be helpful to read the expression `arr2d[:2]` as *\"select the first two rows of `arr2d`.*\"\n",
    "\n",
    "You can pass multiple slices just like you can pass multiple indexes:\n"
   ]
  },
  {
   "cell_type": "code",
   "execution_count": 85,
   "id": "34ba68dd-e605-44a8-8603-626756796a6d",
   "metadata": {},
   "outputs": [
    {
     "data": {
      "text/plain": [
       "array([[2, 3],\n",
       "       [5, 6]])"
      ]
     },
     "execution_count": 85,
     "metadata": {},
     "output_type": "execute_result"
    }
   ],
   "source": [
    "arr2d[:2, 1:]"
   ]
  },
  {
   "cell_type": "markdown",
   "id": "e1717f6e-0d3a-4806-a056-bd07a0882c90",
   "metadata": {},
   "source": [
    "When slicing like this, you always obtain array views of the same number of dimensions. By mixing integer indexes and slices, you get lower dimensional slices.\n",
    "\n",
    "For example, I can select the second row but only the first two columns, like so:"
   ]
  },
  {
   "cell_type": "code",
   "execution_count": 89,
   "id": "1d726308-3f3f-43e4-83b3-70f4bfb7a8e1",
   "metadata": {},
   "outputs": [],
   "source": [
    "lower_dim_slice = arr2d[1, :2]"
   ]
  },
  {
   "cell_type": "markdown",
   "id": "7671b5d3-abdf-4a0a-9653-5924a2578274",
   "metadata": {},
   "source": [
    "Here, while `arr2d` is two-dimensional, `lower_dim_slice` is one-dimensional, and its shape is a tuple with one axis size:\n",
    "\n"
   ]
  },
  {
   "cell_type": "code",
   "execution_count": 90,
   "id": "5ea7089f-e6d9-4c06-ba6d-01595beac27d",
   "metadata": {},
   "outputs": [
    {
     "data": {
      "text/plain": [
       "(2,)"
      ]
     },
     "execution_count": 90,
     "metadata": {},
     "output_type": "execute_result"
    }
   ],
   "source": [
    "lower_dim_slice.shape"
   ]
  },
  {
   "cell_type": "markdown",
   "id": "77a27986-af62-4f7c-9b2c-280ef30fefad",
   "metadata": {},
   "source": [
    "Similarly, I can select the third column but only the first two rows, like so:"
   ]
  },
  {
   "cell_type": "code",
   "execution_count": 91,
   "id": "fc56b810-8a68-48b9-85e4-5b6ef01b73e8",
   "metadata": {},
   "outputs": [
    {
     "data": {
      "text/plain": [
       "array([3, 6])"
      ]
     },
     "execution_count": 91,
     "metadata": {},
     "output_type": "execute_result"
    }
   ],
   "source": [
    "arr2d[:2, 2]"
   ]
  },
  {
   "cell_type": "markdown",
   "id": "2ec50b8e-0310-4f20-a7ef-d75b498cc857",
   "metadata": {},
   "source": [
    "See **[Figure 4.2](https://wesmckinney.com/book/numpy-basics#fig-figure_ndarray_slicing)** for an illustration. Note that a colon by itself means to take the entire axis, so you can slice only higher dimensional axes by doing:\n",
    "\n"
   ]
  },
  {
   "cell_type": "code",
   "execution_count": 92,
   "id": "9e724a6e-0efd-4ada-84b1-5eb5aa393c2e",
   "metadata": {},
   "outputs": [
    {
     "data": {
      "text/plain": [
       "array([[1],\n",
       "       [4],\n",
       "       [7]])"
      ]
     },
     "execution_count": 92,
     "metadata": {},
     "output_type": "execute_result"
    }
   ],
   "source": [
    "arr2d[:, :1]"
   ]
  },
  {
   "cell_type": "markdown",
   "id": "13373dc7-079d-41fa-9a6f-9a993aeb4eff",
   "metadata": {},
   "source": [
    "Of course, assigning to a slice expression assigns to the whole selection:"
   ]
  },
  {
   "cell_type": "code",
   "execution_count": 95,
   "id": "0da627b6-6278-4173-b489-88148a451f4d",
   "metadata": {},
   "outputs": [
    {
     "data": {
      "text/plain": [
       "array([[1, 0, 0],\n",
       "       [4, 0, 0],\n",
       "       [7, 0, 0]])"
      ]
     },
     "execution_count": 95,
     "metadata": {},
     "output_type": "execute_result"
    }
   ],
   "source": [
    "arr2d[:2, 1:] = 0\n",
    "arr2d"
   ]
  },
  {
   "cell_type": "markdown",
   "id": "2f85ce99-1641-455b-9421-c787f760dd4f",
   "metadata": {},
   "source": [
    "### Boolean Indexing\n",
    "\n",
    "Let’s consider an example where we have some data in an array and an array of names with duplicates:\n",
    "\n"
   ]
  },
  {
   "cell_type": "code",
   "execution_count": 97,
   "id": "a5873c83-811a-49bc-bcbf-4d82718708dc",
   "metadata": {},
   "outputs": [
    {
     "data": {
      "text/plain": [
       "array(['Bob', 'Joe', 'Will', 'Bob', 'Will', 'Joe', 'Joe'], dtype='<U4')"
      ]
     },
     "execution_count": 97,
     "metadata": {},
     "output_type": "execute_result"
    }
   ],
   "source": [
    "names = np.array([\"Bob\", \"Joe\", \"Will\", \"Bob\", \"Will\", \"Joe\", \"Joe\"])\n",
    "\n",
    "data= np.array([[4, 7], [0, 2], [-5, 6], [0, 0], [1, 2], [-12, -4], [3, 4]])\n",
    "\n",
    "names"
   ]
  },
  {
   "cell_type": "code",
   "execution_count": 98,
   "id": "1ab7d59d-44e4-41cb-b953-1012b63c8a8f",
   "metadata": {},
   "outputs": [
    {
     "data": {
      "text/plain": [
       "array([[  4,   7],\n",
       "       [  0,   2],\n",
       "       [ -5,   6],\n",
       "       [  0,   0],\n",
       "       [  1,   2],\n",
       "       [-12,  -4],\n",
       "       [  3,   4]])"
      ]
     },
     "execution_count": 98,
     "metadata": {},
     "output_type": "execute_result"
    }
   ],
   "source": [
    "data"
   ]
  },
  {
   "cell_type": "markdown",
   "id": "c12ebfed-94f0-4a72-87bb-72e460d29ea0",
   "metadata": {},
   "source": [
    "Suppose each name corresponds to a row in the `data` array and we wanted to select all the rows with the corresponding name `\"Bob\"`. Like arithmetic operations, comparisons (such as `==`) with arrays are also vectorized. Thus, comparing `names` with the string `\"Bob\"` yields a Boolean array:\n",
    "\n"
   ]
  },
  {
   "cell_type": "code",
   "execution_count": 99,
   "id": "38668e9c-ae51-4b40-9469-cfdc3975628d",
   "metadata": {},
   "outputs": [
    {
     "data": {
      "text/plain": [
       "array([ True, False, False,  True, False, False, False])"
      ]
     },
     "execution_count": 99,
     "metadata": {},
     "output_type": "execute_result"
    }
   ],
   "source": [
    "names == \"Bob\""
   ]
  },
  {
   "cell_type": "markdown",
   "id": "0f939f06-ea30-40c5-acc6-89099517547d",
   "metadata": {},
   "source": [
    "This Boolean array can be passed when indexing the array:\n",
    "\n"
   ]
  },
  {
   "cell_type": "code",
   "execution_count": 100,
   "id": "9b148b3b-36da-4123-b330-b9d8d8f9e76d",
   "metadata": {},
   "outputs": [
    {
     "data": {
      "text/plain": [
       "array([[4, 7],\n",
       "       [0, 0]])"
      ]
     },
     "execution_count": 100,
     "metadata": {},
     "output_type": "execute_result"
    }
   ],
   "source": [
    "data[names == \"Bob\"]"
   ]
  },
  {
   "cell_type": "markdown",
   "id": "5d66fff8-ad84-4c71-a0e6-6d085c9a61e5",
   "metadata": {},
   "source": [
    "The Boolean array must be of the same length as the array axis it’s indexing. You can even mix and match Boolean arrays with slices or integers (or sequences of integers; more on this later).\n",
    "\n",
    "In these examples, I select from the rows where `names == \"Bob\"` and index the columns, too:"
   ]
  },
  {
   "cell_type": "code",
   "execution_count": 101,
   "id": "8d64ffb7-49bd-40f0-a607-bc79e69c8b27",
   "metadata": {},
   "outputs": [
    {
     "data": {
      "text/plain": [
       "array([[7],\n",
       "       [0]])"
      ]
     },
     "execution_count": 101,
     "metadata": {},
     "output_type": "execute_result"
    }
   ],
   "source": [
    "data[names == \"Bob\", 1:]"
   ]
  },
  {
   "cell_type": "code",
   "execution_count": 102,
   "id": "393f5f98-fa5c-487c-8c24-3b144f89ddd2",
   "metadata": {},
   "outputs": [
    {
     "data": {
      "text/plain": [
       "array([7, 0])"
      ]
     },
     "execution_count": 102,
     "metadata": {},
     "output_type": "execute_result"
    }
   ],
   "source": [
    "data[names == \"Bob\", 1]"
   ]
  },
  {
   "cell_type": "markdown",
   "id": "aaa889db-48a9-4739-a4d4-253319ca3c05",
   "metadata": {},
   "source": [
    "To select everything but `\"Bob\"` you can either use `!=` or negate the condition using `~`:\n",
    "\n"
   ]
  },
  {
   "cell_type": "code",
   "execution_count": 103,
   "id": "c784f3df-0e1a-4ff4-bf9f-f960af92a840",
   "metadata": {},
   "outputs": [
    {
     "data": {
      "text/plain": [
       "array([False,  True,  True, False,  True,  True,  True])"
      ]
     },
     "execution_count": 103,
     "metadata": {},
     "output_type": "execute_result"
    }
   ],
   "source": [
    "names != \"Bob\""
   ]
  },
  {
   "cell_type": "code",
   "execution_count": 104,
   "id": "3ab36e2e-5e1d-492d-a3a0-d003edf054a0",
   "metadata": {},
   "outputs": [
    {
     "data": {
      "text/plain": [
       "array([False,  True,  True, False,  True,  True,  True])"
      ]
     },
     "execution_count": 104,
     "metadata": {},
     "output_type": "execute_result"
    }
   ],
   "source": [
    "~(names == \"Bob\")"
   ]
  },
  {
   "cell_type": "code",
   "execution_count": 105,
   "id": "067e0fe1-944a-48bb-b670-63ec44a95342",
   "metadata": {},
   "outputs": [
    {
     "data": {
      "text/plain": [
       "array([[  0,   2],\n",
       "       [ -5,   6],\n",
       "       [  1,   2],\n",
       "       [-12,  -4],\n",
       "       [  3,   4]])"
      ]
     },
     "execution_count": 105,
     "metadata": {},
     "output_type": "execute_result"
    }
   ],
   "source": [
    "data[~(names == \"Bob\")]"
   ]
  },
  {
   "cell_type": "markdown",
   "id": "f4566214-5268-4fe3-b684-54fff944d6b6",
   "metadata": {},
   "source": [
    "The `~` operator can be useful when you want to invert a Boolean array referenced by a variable:\n",
    "\n"
   ]
  },
  {
   "cell_type": "code",
   "execution_count": 106,
   "id": "a967c131-bcd5-460a-9003-c14bf5b5b39d",
   "metadata": {},
   "outputs": [
    {
     "data": {
      "text/plain": [
       "array([[  0,   2],\n",
       "       [ -5,   6],\n",
       "       [  1,   2],\n",
       "       [-12,  -4],\n",
       "       [  3,   4]])"
      ]
     },
     "execution_count": 106,
     "metadata": {},
     "output_type": "execute_result"
    }
   ],
   "source": [
    "cond = names == \"Bob\"\n",
    "\n",
    "data[~cond]"
   ]
  },
  {
   "cell_type": "markdown",
   "id": "3f1a7ed3-039b-4315-ac5e-a8099c4a36a8",
   "metadata": {},
   "source": [
    "To select two of the three names to combine multiple Boolean conditions, use Boolean arithmetic operators like `&` (and) and `|` (or):\n",
    "\n"
   ]
  },
  {
   "cell_type": "code",
   "execution_count": 108,
   "id": "c9a9e7f1-b895-40d3-920a-f12e04c6f796",
   "metadata": {},
   "outputs": [
    {
     "data": {
      "text/plain": [
       "array([ True, False,  True,  True,  True, False, False])"
      ]
     },
     "execution_count": 108,
     "metadata": {},
     "output_type": "execute_result"
    }
   ],
   "source": [
    "mask = (names == \"Bob\") | (names == \"Will\")\n",
    "mask"
   ]
  },
  {
   "cell_type": "code",
   "execution_count": 109,
   "id": "83edc830-1692-492c-8916-9f46a228559b",
   "metadata": {},
   "outputs": [
    {
     "data": {
      "text/plain": [
       "array([[ 4,  7],\n",
       "       [-5,  6],\n",
       "       [ 0,  0],\n",
       "       [ 1,  2]])"
      ]
     },
     "execution_count": 109,
     "metadata": {},
     "output_type": "execute_result"
    }
   ],
   "source": [
    "data[mask]"
   ]
  },
  {
   "cell_type": "markdown",
   "id": "769d74b1-04ab-4940-9fc8-1fcf10c36b11",
   "metadata": {},
   "source": [
    "Selecting data from an array by Boolean indexing and assigning the result to a new variable *always* creates a copy of the data, even if the returned array is unchanged.\n",
    "\n",
    "**Note:** The Python keywords `and` and `or` do not work with Boolean arrays. Use `&` (and) and `|` (or) instead.\n",
    "\n",
    "Setting values with Boolean arrays works by substituting the value or values on the righthand side into the locations where the Boolean array's values are `True`. To set all of the negative values in `data` to 0, we need only do:\n",
    "\n",
    "\n"
   ]
  },
  {
   "cell_type": "code",
   "execution_count": 111,
   "id": "5ec78947-0a8c-47ea-86bf-b7ffffc646d7",
   "metadata": {},
   "outputs": [
    {
     "data": {
      "text/plain": [
       "array([[4, 7],\n",
       "       [0, 2],\n",
       "       [0, 6],\n",
       "       [0, 0],\n",
       "       [1, 2],\n",
       "       [0, 0],\n",
       "       [3, 4]])"
      ]
     },
     "execution_count": 111,
     "metadata": {},
     "output_type": "execute_result"
    }
   ],
   "source": [
    "data[data < 0] = 0\n",
    "data"
   ]
  },
  {
   "cell_type": "markdown",
   "id": "c2154a1f-3564-4509-ab13-cfafb07d6cea",
   "metadata": {},
   "source": [
    "You can also set whole rows or columns using a one-dimensional Boolean array:\n",
    "\n"
   ]
  },
  {
   "cell_type": "code",
   "execution_count": 113,
   "id": "85ff4b03-8243-4763-b6c9-17aeb58de082",
   "metadata": {},
   "outputs": [
    {
     "data": {
      "text/plain": [
       "array([[7, 7],\n",
       "       [0, 2],\n",
       "       [7, 7],\n",
       "       [7, 7],\n",
       "       [7, 7],\n",
       "       [0, 0],\n",
       "       [3, 4]])"
      ]
     },
     "execution_count": 113,
     "metadata": {},
     "output_type": "execute_result"
    }
   ],
   "source": [
    "data[names != \"Joe\"] = 7\n",
    "data"
   ]
  },
  {
   "cell_type": "markdown",
   "id": "c6d38e56-1f40-4906-beff-758cc1d78311",
   "metadata": {},
   "source": [
    "### Fancy Indexing\n",
    "\n",
    "*Fancy indexing* is a term adopted by NumPy to describe indexing using integer arrays. Suppose we had an 8 × 4 array:\n",
    "\n"
   ]
  },
  {
   "cell_type": "code",
   "execution_count": 115,
   "id": "7518fee1-5ef4-404c-94c9-ca1b00c21d00",
   "metadata": {},
   "outputs": [
    {
     "data": {
      "text/plain": [
       "array([[0., 0., 0., 0.],\n",
       "       [1., 1., 1., 1.],\n",
       "       [2., 2., 2., 2.],\n",
       "       [3., 3., 3., 3.],\n",
       "       [4., 4., 4., 4.],\n",
       "       [5., 5., 5., 5.],\n",
       "       [6., 6., 6., 6.],\n",
       "       [7., 7., 7., 7.]])"
      ]
     },
     "execution_count": 115,
     "metadata": {},
     "output_type": "execute_result"
    }
   ],
   "source": [
    "arr = np.zeros((8,4))\n",
    "\n",
    "for i in range(8):\n",
    "    arr[i] = i\n",
    "\n",
    "arr"
   ]
  },
  {
   "cell_type": "markdown",
   "id": "27463958-fbb5-41ae-b0f8-416c28e0015a",
   "metadata": {},
   "source": [
    "To select a subset of the rows in a particular order, you can simply pass a list or ndarray of integers specifying the desired order:\n",
    "\n"
   ]
  },
  {
   "cell_type": "code",
   "execution_count": 116,
   "id": "a2e81f92-c16a-4a68-831f-7352e6305657",
   "metadata": {},
   "outputs": [
    {
     "data": {
      "text/plain": [
       "array([[4., 4., 4., 4.],\n",
       "       [3., 3., 3., 3.],\n",
       "       [0., 0., 0., 0.],\n",
       "       [6., 6., 6., 6.]])"
      ]
     },
     "execution_count": 116,
     "metadata": {},
     "output_type": "execute_result"
    }
   ],
   "source": [
    "arr[[4, 3, 0, 6]]"
   ]
  },
  {
   "cell_type": "markdown",
   "id": "a9a6c3f0-ddfd-48fd-a84c-8eb4feb4cb93",
   "metadata": {},
   "source": [
    "Hopefully this code did what you expected! Using negative indices selects rows from the end:\n",
    "\n"
   ]
  },
  {
   "cell_type": "code",
   "execution_count": 118,
   "id": "0324903c-7631-49fb-85be-f86d925b9a34",
   "metadata": {},
   "outputs": [
    {
     "data": {
      "text/plain": [
       "array([[5., 5., 5., 5.],\n",
       "       [3., 3., 3., 3.],\n",
       "       [1., 1., 1., 1.]])"
      ]
     },
     "execution_count": 118,
     "metadata": {},
     "output_type": "execute_result"
    }
   ],
   "source": [
    "arr[[-3, -5, -7]]"
   ]
  },
  {
   "cell_type": "markdown",
   "id": "480067ac-f030-4a68-a276-5f0b863da08d",
   "metadata": {},
   "source": [
    "Passing multiple index arrays does something slightly different; it selects a one-dimensional array of elements corresponding to each tuple of indices:\n",
    "\n"
   ]
  },
  {
   "cell_type": "code",
   "execution_count": 120,
   "id": "575e731c-a6eb-4f9e-868a-41e38653f3c3",
   "metadata": {},
   "outputs": [
    {
     "data": {
      "text/plain": [
       "array([[ 0,  1,  2,  3],\n",
       "       [ 4,  5,  6,  7],\n",
       "       [ 8,  9, 10, 11],\n",
       "       [12, 13, 14, 15],\n",
       "       [16, 17, 18, 19],\n",
       "       [20, 21, 22, 23],\n",
       "       [24, 25, 26, 27],\n",
       "       [28, 29, 30, 31]])"
      ]
     },
     "execution_count": 120,
     "metadata": {},
     "output_type": "execute_result"
    }
   ],
   "source": [
    "arr = np.arange(32).reshape((8, 4))\n",
    "arr"
   ]
  },
  {
   "cell_type": "code",
   "execution_count": 121,
   "id": "c024df9c-5e40-4f11-a52f-eb17bd6ed5d2",
   "metadata": {},
   "outputs": [
    {
     "data": {
      "text/plain": [
       "array([ 4, 23, 29, 10])"
      ]
     },
     "execution_count": 121,
     "metadata": {},
     "output_type": "execute_result"
    }
   ],
   "source": [
    "arr[[1, 5, 7, 2], [0, 3, 1, 2]]"
   ]
  },
  {
   "cell_type": "markdown",
   "id": "8f1e7cfe-4c9d-4a76-8f83-935a14f0f622",
   "metadata": {},
   "source": [
    "Here the elements `(1, 0), (5, 3), (7, 1)`, and `(2, 2)` were selected. The result of fancy indexing with as many integer arrays as there are axes is always one-dimensional.\n",
    "\n",
    "The behavior of fancy indexing in this case is a bit different from what some users might have expected (myself included), which is the rectangular region formed by selecting a subset of the matrix’s rows and columns. Here is one way to get that:"
   ]
  },
  {
   "cell_type": "code",
   "execution_count": 122,
   "id": "57bac763-1d2a-46d4-9d1d-8ed6f07606ab",
   "metadata": {},
   "outputs": [
    {
     "data": {
      "text/plain": [
       "array([[ 4,  7,  5,  6],\n",
       "       [20, 23, 21, 22],\n",
       "       [28, 31, 29, 30],\n",
       "       [ 8, 11,  9, 10]])"
      ]
     },
     "execution_count": 122,
     "metadata": {},
     "output_type": "execute_result"
    }
   ],
   "source": [
    "arr[[1, 5, 7, 2]][:, [0, 3, 1, 2]]"
   ]
  },
  {
   "cell_type": "markdown",
   "id": "aa0a8efa-cf06-41a1-ba52-8a55f8cb8e80",
   "metadata": {},
   "source": [
    "Keep in mind that fancy indexing, unlike slicing, ***always*** *copies the data into a new array* when assigning the result to a new variable. If you assign values with fancy indexing, the indexed values will be modified:\n",
    "\n"
   ]
  },
  {
   "cell_type": "code",
   "execution_count": 123,
   "id": "7416411e-218d-4254-8727-58e5dcb95408",
   "metadata": {},
   "outputs": [
    {
     "data": {
      "text/plain": [
       "array([ 4, 23, 29, 10])"
      ]
     },
     "execution_count": 123,
     "metadata": {},
     "output_type": "execute_result"
    }
   ],
   "source": [
    "arr[[1, 5, 7, 2], [0, 3, 1, 2]]"
   ]
  },
  {
   "cell_type": "code",
   "execution_count": 125,
   "id": "f92c8ec0-e03a-480e-a53e-7a16716b417b",
   "metadata": {},
   "outputs": [
    {
     "data": {
      "text/plain": [
       "array([[ 0,  1,  2,  3],\n",
       "       [ 0,  5,  6,  7],\n",
       "       [ 8,  9,  0, 11],\n",
       "       [12, 13, 14, 15],\n",
       "       [16, 17, 18, 19],\n",
       "       [20, 21, 22,  0],\n",
       "       [24, 25, 26, 27],\n",
       "       [28,  0, 30, 31]])"
      ]
     },
     "execution_count": 125,
     "metadata": {},
     "output_type": "execute_result"
    }
   ],
   "source": [
    "arr[[1, 5, 7, 2], [0, 3, 1, 2]] = 0\n",
    "arr"
   ]
  },
  {
   "cell_type": "markdown",
   "id": "925bb43e-b0d7-4325-8742-75ff8b281bc5",
   "metadata": {},
   "source": [
    "### Transposing Arrays and Swapping Axes\n",
    "\n",
    "Transposing is a special form of reshaping that similarly returns a view on the underlying data without copying anything. Arrays have the `transpose` method and the special `T` attribute:\n",
    "\n"
   ]
  },
  {
   "cell_type": "code",
   "execution_count": 126,
   "id": "f6c6b7ff-e355-488c-87b0-8ab4efc32c0e",
   "metadata": {},
   "outputs": [
    {
     "data": {
      "text/plain": [
       "array([[ 0,  1,  2,  3,  4],\n",
       "       [ 5,  6,  7,  8,  9],\n",
       "       [10, 11, 12, 13, 14]])"
      ]
     },
     "execution_count": 126,
     "metadata": {},
     "output_type": "execute_result"
    }
   ],
   "source": [
    "arr = np.arange(15).reshape((3, 5))\n",
    "arr"
   ]
  },
  {
   "cell_type": "code",
   "execution_count": 127,
   "id": "49d346c5-3551-443b-8940-6d65442873f1",
   "metadata": {},
   "outputs": [
    {
     "data": {
      "text/plain": [
       "array([[ 0,  5, 10],\n",
       "       [ 1,  6, 11],\n",
       "       [ 2,  7, 12],\n",
       "       [ 3,  8, 13],\n",
       "       [ 4,  9, 14]])"
      ]
     },
     "execution_count": 127,
     "metadata": {},
     "output_type": "execute_result"
    }
   ],
   "source": [
    "arr.T"
   ]
  },
  {
   "cell_type": "markdown",
   "id": "45956d65-03dc-4939-b340-9af6082050b1",
   "metadata": {},
   "source": [
    "When doing matrix computations, you may do this very often—for example, when computing the inner matrix product using `numpy.dot`:\n",
    "\n"
   ]
  },
  {
   "cell_type": "code",
   "execution_count": 129,
   "id": "11900fd0-bfc7-4d9b-9c8c-e7eddb3326ec",
   "metadata": {},
   "outputs": [
    {
     "data": {
      "text/plain": [
       "array([[ 0,  1,  0],\n",
       "       [ 1,  2, -2],\n",
       "       [ 6,  3,  2],\n",
       "       [-1,  0, -1],\n",
       "       [ 1,  0,  1]])"
      ]
     },
     "execution_count": 129,
     "metadata": {},
     "output_type": "execute_result"
    }
   ],
   "source": [
    "arr = np.array([[0, 1, 0], [1, 2, -2], [6, 3, 2], [-1, 0, -1], [1, 0, 1]])\n",
    "\n",
    "arr"
   ]
  },
  {
   "cell_type": "code",
   "execution_count": 131,
   "id": "633dbb1f-b6e4-420f-8e15-a7bfcd34b77e",
   "metadata": {},
   "outputs": [
    {
     "data": {
      "text/plain": [
       "array([[39, 20, 12],\n",
       "       [20, 14,  2],\n",
       "       [12,  2, 10]])"
      ]
     },
     "execution_count": 131,
     "metadata": {},
     "output_type": "execute_result"
    }
   ],
   "source": [
    "np.dot(arr.T, arr)"
   ]
  },
  {
   "cell_type": "markdown",
   "id": "8a9ab342-0e0c-49a8-a9e4-98c1fb72c26d",
   "metadata": {},
   "source": [
    "The `@` infix operator is another way to do matrix multiplication:\n",
    "\n"
   ]
  },
  {
   "cell_type": "code",
   "execution_count": 132,
   "id": "974540a1-f4a2-481b-a836-f7ab828c2d41",
   "metadata": {},
   "outputs": [
    {
     "data": {
      "text/plain": [
       "array([[39, 20, 12],\n",
       "       [20, 14,  2],\n",
       "       [12,  2, 10]])"
      ]
     },
     "execution_count": 132,
     "metadata": {},
     "output_type": "execute_result"
    }
   ],
   "source": [
    "arr.T @ arr"
   ]
  },
  {
   "cell_type": "markdown",
   "id": "0643e3b5-5040-4f88-8588-e9e004680228",
   "metadata": {},
   "source": [
    "Simple transposing with `.T` is a special case of swapping axes. ndarray has the method `swapaxes`, which takes a pair of axis numbers and switches the indicated axes to rearrange the data:\n",
    "\n"
   ]
  },
  {
   "cell_type": "code",
   "execution_count": 133,
   "id": "41ddf3c2-04ea-47af-a048-7a58a15391e5",
   "metadata": {},
   "outputs": [
    {
     "data": {
      "text/plain": [
       "array([[ 0,  1,  0],\n",
       "       [ 1,  2, -2],\n",
       "       [ 6,  3,  2],\n",
       "       [-1,  0, -1],\n",
       "       [ 1,  0,  1]])"
      ]
     },
     "execution_count": 133,
     "metadata": {},
     "output_type": "execute_result"
    }
   ],
   "source": [
    "arr"
   ]
  },
  {
   "cell_type": "code",
   "execution_count": 135,
   "id": "ad48990c-ae1c-4125-9f82-21fe27f5b411",
   "metadata": {},
   "outputs": [
    {
     "data": {
      "text/plain": [
       "array([[ 0,  1,  6, -1,  1],\n",
       "       [ 1,  2,  3,  0,  0],\n",
       "       [ 0, -2,  2, -1,  1]])"
      ]
     },
     "execution_count": 135,
     "metadata": {},
     "output_type": "execute_result"
    }
   ],
   "source": [
    "arr.swapaxes(0,1)"
   ]
  },
  {
   "cell_type": "markdown",
   "id": "dc093fc6-7a3b-4a90-af7f-a493fc4504d8",
   "metadata": {},
   "source": [
    "`swapaxes` similarly returns a view on the data without making a copy.\n",
    "\n",
    "\n",
    "## 4.2 Pseudorandom Number Generation\n",
    "\n",
    "The `numpy.random` module supplements the built-in Python `random` module with functions for efficiently generating whole arrays of sample values from many kinds of probability distributions. For example, you can get a 4 × 4 array of samples from the standard normal distribution using `numpy.random.standard_normal`:\n",
    "\n"
   ]
  },
  {
   "cell_type": "code",
   "execution_count": 137,
   "id": "d0922612-cbb2-42db-a9f7-2085bf2145ae",
   "metadata": {},
   "outputs": [
    {
     "data": {
      "text/plain": [
       "array([[ 0.87214635,  0.39576637, -0.18674879,  1.08779654],\n",
       "       [ 0.20881386,  1.12282328, -0.41063056, -0.02113971],\n",
       "       [-0.68873828, -0.47031863, -0.18744924, -0.17086616],\n",
       "       [ 0.69471907,  0.54424435,  1.8924582 ,  0.48821409]])"
      ]
     },
     "execution_count": 137,
     "metadata": {},
     "output_type": "execute_result"
    }
   ],
   "source": [
    "samples = np.random.standard_normal(size=(4,4))\n",
    "\n",
    "samples"
   ]
  },
  {
   "cell_type": "markdown",
   "id": "891573e8-00c8-4609-aa93-4e9198197cd5",
   "metadata": {},
   "source": [
    "Python’s built-in `random` module, by contrast, samples only one value at a time. As you can see from this benchmark, `numpy.random` is well over an order of magnitude faster for generating very large samples:\n",
    "\n"
   ]
  },
  {
   "cell_type": "code",
   "execution_count": 139,
   "id": "eb01e095-1154-4ded-8dcb-c7177de2f4e0",
   "metadata": {},
   "outputs": [
    {
     "name": "stdout",
     "output_type": "stream",
     "text": [
      "339 ms ± 1.9 ms per loop (mean ± std. dev. of 7 runs, 1 loop each)\n"
     ]
    }
   ],
   "source": [
    "from random import normalvariate\n",
    "\n",
    "N = 1_000_000\n",
    "\n",
    "%timeit smpales = [normalvariate(0,1) for _ in range(N)]"
   ]
  },
  {
   "cell_type": "code",
   "execution_count": 140,
   "id": "a0e2014a-15e5-42b5-93c3-7014160f2fd1",
   "metadata": {},
   "outputs": [
    {
     "name": "stdout",
     "output_type": "stream",
     "text": [
      "15 ms ± 59.9 µs per loop (mean ± std. dev. of 7 runs, 100 loops each)\n"
     ]
    }
   ],
   "source": [
    "%timeit np.random.standard_normal(N)"
   ]
  },
  {
   "cell_type": "markdown",
   "id": "7f994111-49f6-49b5-ae47-f4c343009a9c",
   "metadata": {},
   "source": [
    "These random numbers are not truly random (rather, *pseudorandom*) but instead are generated by a configurable random number generator that determines deterministically what values are created. Functions like `numpy.random.standard_normal` use the `numpy.random` module's default random number generator, but your code can be configured to use an explicit generator:\n",
    "\n"
   ]
  },
  {
   "cell_type": "code",
   "execution_count": 141,
   "id": "533b12fd-6c79-44e6-b6be-ee421da73074",
   "metadata": {},
   "outputs": [],
   "source": [
    "rng = np.random.default_rng(seed=12345)\n",
    "\n",
    "data = rng.standard_normal((2, 3))"
   ]
  },
  {
   "cell_type": "markdown",
   "id": "66dc2468-9de8-4ea8-aec9-779d721e28f9",
   "metadata": {},
   "source": [
    "The `seed` argument is what determines the initial state of the generator, and the state changes each time the `rng` object is used to generate data. The generator object `rng` is also isolated from other code which might use the `numpy.random` module:\n",
    "\n"
   ]
  },
  {
   "cell_type": "code",
   "execution_count": 142,
   "id": "353d10af-6357-4de5-892c-b978260ba921",
   "metadata": {},
   "outputs": [
    {
     "data": {
      "text/plain": [
       "numpy.random._generator.Generator"
      ]
     },
     "execution_count": 142,
     "metadata": {},
     "output_type": "execute_result"
    }
   ],
   "source": [
    "type(rng)"
   ]
  },
  {
   "cell_type": "markdown",
   "id": "5d205805-0a4b-4492-b7a5-5452b76da360",
   "metadata": {},
   "source": [
    "See **[Table 4.3](https://wesmckinney.com/book/numpy-basics#tbl-table_numpy_random)** for a partial list of methods available on random generator objects like rng. I will use the rng object I created above to generate random data throughout the rest of the chapter.\n",
    "\n",
    "\n",
    "## 4.3 Universal Functions: Fast Element-Wise Array Functions\n",
    "\n",
    "A universal function, or *ufunc*, is a function that performs element-wise operations on data in ndarrays. You can think of them as fast vectorized wrappers for simple functions that take one or more scalar values and produce one or more scalar results.\n",
    "\n",
    "Many ufuncs are simple element-wise transformations, like `numpy.sqrt` or `numpy.exp`:"
   ]
  },
  {
   "cell_type": "code",
   "execution_count": 143,
   "id": "03059291-6876-4e37-b11c-4b3f5f9544c9",
   "metadata": {},
   "outputs": [
    {
     "data": {
      "text/plain": [
       "array([0, 1, 2, 3, 4, 5, 6, 7, 8, 9])"
      ]
     },
     "execution_count": 143,
     "metadata": {},
     "output_type": "execute_result"
    }
   ],
   "source": [
    "arr = np.arange(10)\n",
    "arr"
   ]
  },
  {
   "cell_type": "code",
   "execution_count": 144,
   "id": "09dcd8f3-553b-41ab-a475-d875f79482bb",
   "metadata": {},
   "outputs": [
    {
     "data": {
      "text/plain": [
       "array([0.        , 1.        , 1.41421356, 1.73205081, 2.        ,\n",
       "       2.23606798, 2.44948974, 2.64575131, 2.82842712, 3.        ])"
      ]
     },
     "execution_count": 144,
     "metadata": {},
     "output_type": "execute_result"
    }
   ],
   "source": [
    "np.sqrt(arr)"
   ]
  },
  {
   "cell_type": "code",
   "execution_count": 145,
   "id": "2e1a371e-6df0-4dc9-9583-e487d802d986",
   "metadata": {},
   "outputs": [
    {
     "data": {
      "text/plain": [
       "array([1.00000000e+00, 2.71828183e+00, 7.38905610e+00, 2.00855369e+01,\n",
       "       5.45981500e+01, 1.48413159e+02, 4.03428793e+02, 1.09663316e+03,\n",
       "       2.98095799e+03, 8.10308393e+03])"
      ]
     },
     "execution_count": 145,
     "metadata": {},
     "output_type": "execute_result"
    }
   ],
   "source": [
    "np.exp(arr)"
   ]
  },
  {
   "cell_type": "markdown",
   "id": "97797a39-dc83-454b-a891-8f4607ea3331",
   "metadata": {},
   "source": [
    "These are referred to as *unary* ufuncs. Others, such as `numpy.add` or `numpy.maximum`, take two arrays (thus, *binary* ufuncs) and return a single array as the result:\n"
   ]
  },
  {
   "cell_type": "code",
   "execution_count": 146,
   "id": "af5a2db7-4152-43a4-8b42-475504163f76",
   "metadata": {},
   "outputs": [
    {
     "data": {
      "text/plain": [
       "array([-1.42382504,  1.26372846, -0.87066174, -0.25917323, -0.07534331,\n",
       "       -0.74088465, -1.3677927 ,  0.6488928 ])"
      ]
     },
     "execution_count": 146,
     "metadata": {},
     "output_type": "execute_result"
    }
   ],
   "source": [
    "x = rng.standard_normal(8)\n",
    "y = rng.standard_normal(8)\n",
    "\n",
    "x"
   ]
  },
  {
   "cell_type": "code",
   "execution_count": 147,
   "id": "62257d99-193c-41de-ad4b-c6627e4f361f",
   "metadata": {},
   "outputs": [
    {
     "data": {
      "text/plain": [
       "array([ 0.36105811, -1.95286306,  2.34740965,  0.96849691, -0.75938718,\n",
       "        0.90219827, -0.46695317, -0.06068952])"
      ]
     },
     "execution_count": 147,
     "metadata": {},
     "output_type": "execute_result"
    }
   ],
   "source": [
    "y"
   ]
  },
  {
   "cell_type": "code",
   "execution_count": 148,
   "id": "d99c923b-4831-4fbc-aa2b-aeff0a0b4e78",
   "metadata": {},
   "outputs": [
    {
     "data": {
      "text/plain": [
       "array([ 0.36105811,  1.26372846,  2.34740965,  0.96849691, -0.07534331,\n",
       "        0.90219827, -0.46695317,  0.6488928 ])"
      ]
     },
     "execution_count": 148,
     "metadata": {},
     "output_type": "execute_result"
    }
   ],
   "source": [
    "np.maximum(x,y)"
   ]
  },
  {
   "cell_type": "markdown",
   "id": "aea92671-c3b0-4eea-91ad-43d486a42ccb",
   "metadata": {},
   "source": [
    "In this example, `numpy.maximum` computed the element-wise maximum of the elements in `x` and `y`.\n",
    "\n",
    "While not common, a ufunc can return multiple arrays. `numpy.modf` is one example: a vectorized version of the built-in Python `math.modf`, it returns the fractional and integral parts of a floating-point array:"
   ]
  },
  {
   "cell_type": "code",
   "execution_count": 150,
   "id": "f973b806-b41c-40e2-b471-215ebebfbc4c",
   "metadata": {},
   "outputs": [
    {
     "data": {
      "text/plain": [
       "array([-8.10791367, -0.7909463 ,  2.24741966, -6.71800536, -0.40843795,\n",
       "        8.62369966, 13.09079713])"
      ]
     },
     "execution_count": 150,
     "metadata": {},
     "output_type": "execute_result"
    }
   ],
   "source": [
    "arr = rng.standard_normal(7) * 5\n",
    "\n",
    "arr"
   ]
  },
  {
   "cell_type": "code",
   "execution_count": 151,
   "id": "519ac26a-772c-4b0a-a620-01c821663b4b",
   "metadata": {},
   "outputs": [
    {
     "data": {
      "text/plain": [
       "array([-0.10791367, -0.7909463 ,  0.24741966, -0.71800536, -0.40843795,\n",
       "        0.62369966,  0.09079713])"
      ]
     },
     "execution_count": 151,
     "metadata": {},
     "output_type": "execute_result"
    }
   ],
   "source": [
    "remainder, whole_part = np.modf(arr)\n",
    "\n",
    "remainder"
   ]
  },
  {
   "cell_type": "code",
   "execution_count": 152,
   "id": "e10ca9b7-3b8e-4d16-a472-9551fc51c358",
   "metadata": {},
   "outputs": [
    {
     "data": {
      "text/plain": [
       "array([-8., -0.,  2., -6., -0.,  8., 13.])"
      ]
     },
     "execution_count": 152,
     "metadata": {},
     "output_type": "execute_result"
    }
   ],
   "source": [
    "whole_part"
   ]
  },
  {
   "cell_type": "markdown",
   "id": "6e33fe9c-8819-48ae-b77e-40b5bbaa63bb",
   "metadata": {},
   "source": [
    "Ufuncs accept an optional `out` argument that allows them to assign their results into an existing array rather than create a new one:"
   ]
  },
  {
   "cell_type": "code",
   "execution_count": 153,
   "id": "589941f7-8859-43ec-9f9b-1d53b75b8451",
   "metadata": {},
   "outputs": [
    {
     "data": {
      "text/plain": [
       "array([-8.10791367, -0.7909463 ,  2.24741966, -6.71800536, -0.40843795,\n",
       "        8.62369966, 13.09079713])"
      ]
     },
     "execution_count": 153,
     "metadata": {},
     "output_type": "execute_result"
    }
   ],
   "source": [
    "arr"
   ]
  },
  {
   "cell_type": "code",
   "execution_count": 155,
   "id": "638cdd7a-9b78-4ddf-88cf-20ce6ccc60a3",
   "metadata": {},
   "outputs": [
    {
     "data": {
      "text/plain": [
       "array([-7.10791367,  0.2090537 ,  3.24741966, -5.71800536,  0.59156205,\n",
       "        9.62369966, 14.09079713])"
      ]
     },
     "execution_count": 155,
     "metadata": {},
     "output_type": "execute_result"
    }
   ],
   "source": [
    "out = np.zeros_like(arr)\n",
    "\n",
    "np.add(arr, 1)"
   ]
  },
  {
   "cell_type": "code",
   "execution_count": 156,
   "id": "e70ffd84-ded8-4330-8cc9-c5a1dc07a51b",
   "metadata": {},
   "outputs": [
    {
     "data": {
      "text/plain": [
       "array([-7.10791367,  0.2090537 ,  3.24741966, -5.71800536,  0.59156205,\n",
       "        9.62369966, 14.09079713])"
      ]
     },
     "execution_count": 156,
     "metadata": {},
     "output_type": "execute_result"
    }
   ],
   "source": [
    "np.add(arr, 1, out=out)"
   ]
  },
  {
   "cell_type": "code",
   "execution_count": 157,
   "id": "9f3d85d8-0b20-4e1a-92b3-2a4f6ef8eaaa",
   "metadata": {},
   "outputs": [
    {
     "data": {
      "text/plain": [
       "array([-7.10791367,  0.2090537 ,  3.24741966, -5.71800536,  0.59156205,\n",
       "        9.62369966, 14.09079713])"
      ]
     },
     "execution_count": 157,
     "metadata": {},
     "output_type": "execute_result"
    }
   ],
   "source": [
    "out"
   ]
  },
  {
   "cell_type": "markdown",
   "id": "f2d1efbd-9d8d-44ac-a287-62e998a2904d",
   "metadata": {},
   "source": [
    "See Tables **[Table 4.4](https://wesmckinney.com/book/numpy-basics#tbl-table_unary_ufuncs)** and **[Table 4.5](https://wesmckinney.com/book/numpy-basics#tbl-table_binary_ufuncs)** for a listing of some of NumPy's ufuncs. New ufuncs continue to be added to NumPy, so consulting the online NumPy documentation is the best way to get a comprehensive listing and stay up to date.\n",
    "\n",
    "\n",
    "\n",
    "## 4.4 Array-Oriented Programming with Arrays\n",
    "\n",
    "Using NumPy arrays enables you to express many kinds of data processing tasks as concise array expressions that might otherwise require writing loops. This practice of replacing explicit loops with array expressions is referred to by some people as *vectorization*. In general, vectorized array operations will usually be significantly faster than their pure Python equivalents, with the biggest impact in any kind of numerical computations. \n",
    "\n",
    "As a simple example, suppose we wished to evaluate the function `sqrt(x^2 + y^2)` across a regular grid of values. The `numpy.meshgrid` function takes two one-dimensional arrays and produces two two-dimensional matrices corresponding to all pairs of `(x, y)` in the two arrays:\n",
    "\n"
   ]
  },
  {
   "cell_type": "code",
   "execution_count": 158,
   "id": "687d1fe7-55b2-45a6-9d2d-1bc45921e95b",
   "metadata": {},
   "outputs": [
    {
     "data": {
      "text/plain": [
       "array([[-5.  , -5.  , -5.  , ..., -5.  , -5.  , -5.  ],\n",
       "       [-4.99, -4.99, -4.99, ..., -4.99, -4.99, -4.99],\n",
       "       [-4.98, -4.98, -4.98, ..., -4.98, -4.98, -4.98],\n",
       "       ...,\n",
       "       [ 4.97,  4.97,  4.97, ...,  4.97,  4.97,  4.97],\n",
       "       [ 4.98,  4.98,  4.98, ...,  4.98,  4.98,  4.98],\n",
       "       [ 4.99,  4.99,  4.99, ...,  4.99,  4.99,  4.99]])"
      ]
     },
     "execution_count": 158,
     "metadata": {},
     "output_type": "execute_result"
    }
   ],
   "source": [
    "points = np.arange(-5, 5, 0.01)  #100 equally placed points\n",
    "\n",
    "xs, ys = np.meshgrid(points, points)\n",
    "\n",
    "ys"
   ]
  },
  {
   "cell_type": "markdown",
   "id": "fa9ec47c-7ae6-44a2-98a8-54fd16dcb7cc",
   "metadata": {},
   "source": [
    "Now, evaluating the function is a matter of writing the same expression you would write with two points:\n",
    "\n"
   ]
  },
  {
   "cell_type": "code",
   "execution_count": 160,
   "id": "78a57ac8-45e8-4a94-b46b-15397661675b",
   "metadata": {},
   "outputs": [
    {
     "data": {
      "text/plain": [
       "array([[7.07106781, 7.06400028, 7.05693985, ..., 7.04988652, 7.05693985,\n",
       "        7.06400028],\n",
       "       [7.06400028, 7.05692568, 7.04985815, ..., 7.04279774, 7.04985815,\n",
       "        7.05692568],\n",
       "       [7.05693985, 7.04985815, 7.04278354, ..., 7.03571603, 7.04278354,\n",
       "        7.04985815],\n",
       "       ...,\n",
       "       [7.04988652, 7.04279774, 7.03571603, ..., 7.0286414 , 7.03571603,\n",
       "        7.04279774],\n",
       "       [7.05693985, 7.04985815, 7.04278354, ..., 7.03571603, 7.04278354,\n",
       "        7.04985815],\n",
       "       [7.06400028, 7.05692568, 7.04985815, ..., 7.04279774, 7.04985815,\n",
       "        7.05692568]])"
      ]
     },
     "execution_count": 160,
     "metadata": {},
     "output_type": "execute_result"
    }
   ],
   "source": [
    "z = np.sqrt(xs ** 2 + ys ** 2)\n",
    "z"
   ]
  },
  {
   "cell_type": "markdown",
   "id": "001c65c0-710d-4601-99dc-24cca1d8e69e",
   "metadata": {},
   "source": [
    "As a preview of **[Ch 9: Plotting and Visualization](https://wesmckinney.com/book/numpy-basics#fig-numpy_vectorize_circle)**, I use matplotlib to create visualizations of this two-dimensional array:\n",
    "\n"
   ]
  },
  {
   "cell_type": "code",
   "execution_count": 161,
   "id": "589ebd51-231d-4d25-a13a-618f0f7ee75c",
   "metadata": {},
   "outputs": [
    {
     "name": "stderr",
     "output_type": "stream",
     "text": [
      "<>:7: SyntaxWarning: invalid escape sequence '\\s'\n",
      "<>:7: SyntaxWarning: invalid escape sequence '\\s'\n",
      "/var/folders/fn/3w5085ns7nv4v62cfvj7m9sm0000gp/T/ipykernel_69421/400670216.py:7: SyntaxWarning: invalid escape sequence '\\s'\n",
      "  plt.title(\"Image plot of $\\sqrt{x^2 + y^2}$ for a grid of values\")\n"
     ]
    },
    {
     "data": {
      "text/plain": [
       "Text(0.5, 1.0, 'Image plot of $\\\\sqrt{x^2 + y^2}$ for a grid of values')"
      ]
     },
     "execution_count": 161,
     "metadata": {},
     "output_type": "execute_result"
    },
    {
     "data": {
      "image/png": "[encoded data removed]",
      "text/plain": [
       "<Figure size 640x480 with 2 Axes>"
      ]
     },
     "metadata": {},
     "output_type": "display_data"
    }
   ],
   "source": [
    "import matplotlib.pyplot as plt\n",
    "\n",
    "plt.imshow(z, cmap=plt.cm.gray, extent=[-5, 5, -5, 5])\n",
    "\n",
    "plt.colorbar()\n",
    "\n",
    "plt.title(\"Image plot of $\\sqrt{x^2 + y^2}$ for a grid of values\")"
   ]
  },
  {
   "cell_type": "markdown",
   "id": "616b29cf-22e9-47ba-aa13-ee1b6760a213",
   "metadata": {},
   "source": [
    "**Note:** The term *vectorization* is used to describe some other computer science concepts, but in this book I use it to describe operations on whole arrays of data at once rather than going value by value using a Python `for` loop.\n",
    "\n"
   ]
  },
  {
   "cell_type": "markdown",
   "id": "62024688-948f-4e26-b15e-3b69d3623792",
   "metadata": {},
   "source": [
    "### Expressing Conditional Logic as Array Operations\n",
    "\n",
    "The `numpy.where` function is a vectorized version of the ternary expression `x if condition else y`. Suppose we had a Boolean array and two arrays of values:\n",
    "\n"
   ]
  },
  {
   "cell_type": "code",
   "execution_count": 164,
   "id": "8fca3fe9-1294-44d1-ab94-14549ff194fd",
   "metadata": {},
   "outputs": [],
   "source": [
    "xarr = np.array([1.1, 1.2, 1.3, 1.4, 1.5])\n",
    "yarr = np.array([2.1, 2.2, 2.3, 2.4, 2.5])\n",
    "\n",
    "cond = np.array([True, False, True, True, False])\n"
   ]
  },
  {
   "cell_type": "markdown",
   "id": "2d1aad6f-a453-4883-a650-a7e779824bb9",
   "metadata": {},
   "source": [
    "Suppose we wanted to take a value from `xarr` whenever the corresponding value in `cond` is `True`, and otherwise take the value from `yarr`. A list comprehension doing this might look like:\n",
    "\n"
   ]
  },
  {
   "cell_type": "code",
   "execution_count": 165,
   "id": "da44be9c-9999-4f4c-ad32-fc484291224a",
   "metadata": {},
   "outputs": [
    {
     "data": {
      "text/plain": [
       "[1.1, 2.2, 1.3, 1.4, 2.5]"
      ]
     },
     "execution_count": 165,
     "metadata": {},
     "output_type": "execute_result"
    }
   ],
   "source": [
    "result = [(x if c else y)\n",
    "          for x, y, c, in zip(xarr, yarr, cond)]\n",
    "result"
   ]
  },
  {
   "cell_type": "markdown",
   "id": "0a3aab54-04b8-4157-8102-34f56e57e8d2",
   "metadata": {},
   "source": [
    "This has multiple problems. First, it will not be very fast for large arrays (because all the work is being done in interpreted Python code). Second, it will not work with multidimensional arrays. With `numpy.where` you can do this with a single function call:\n",
    "\n"
   ]
  },
  {
   "cell_type": "code",
   "execution_count": 167,
   "id": "81dfccb2-d2da-4f48-bcad-b4cd24506ab5",
   "metadata": {},
   "outputs": [
    {
     "data": {
      "text/plain": [
       "array([1.1, 2.2, 1.3, 1.4, 2.5])"
      ]
     },
     "execution_count": 167,
     "metadata": {},
     "output_type": "execute_result"
    }
   ],
   "source": [
    "result = np.where(cond, xarr, yarr)\n",
    "result"
   ]
  },
  {
   "cell_type": "markdown",
   "id": "b89c1573-f4d6-4811-8915-2e3266f0cb35",
   "metadata": {},
   "source": [
    "The second and third arguments to `numpy.where` don’t need to be arrays; one or both of them can be scalars. A typical use of `where` in data analysis is to produce a new array of values based on another array. Suppose you had a matrix of randomly generated data and you wanted to replace all positive values with 2 and all negative values with –2. This is possible to do with `numpy.where`:\n",
    "\n"
   ]
  },
  {
   "cell_type": "code",
   "execution_count": 168,
   "id": "720ba764-5af7-4560-a523-c49096985991",
   "metadata": {},
   "outputs": [
    {
     "data": {
      "text/plain": [
       "array([[ 0.77736134,  0.8286332 , -0.95898831, -1.20938829],\n",
       "       [-1.41229201,  0.54154683,  0.7519394 , -0.65876032],\n",
       "       [-1.22867499,  0.25755777,  0.31290292, -0.13081169],\n",
       "       [ 1.26998312, -0.09296246, -0.06615089, -1.10821447]])"
      ]
     },
     "execution_count": 168,
     "metadata": {},
     "output_type": "execute_result"
    }
   ],
   "source": [
    "arr = rng.standard_normal((4, 4))\n",
    "arr"
   ]
  },
  {
   "cell_type": "code",
   "execution_count": 169,
   "id": "7eade1c7-fe88-41fb-8d17-5d738ca59629",
   "metadata": {},
   "outputs": [
    {
     "data": {
      "text/plain": [
       "array([[ True,  True, False, False],\n",
       "       [False,  True,  True, False],\n",
       "       [False,  True,  True, False],\n",
       "       [ True, False, False, False]])"
      ]
     },
     "execution_count": 169,
     "metadata": {},
     "output_type": "execute_result"
    }
   ],
   "source": [
    "arr > 0"
   ]
  },
  {
   "cell_type": "code",
   "execution_count": 170,
   "id": "cf45b186-d9c7-4947-be8c-23bdb1c97be1",
   "metadata": {},
   "outputs": [
    {
     "data": {
      "text/plain": [
       "array([[ 2,  2, -2, -2],\n",
       "       [-2,  2,  2, -2],\n",
       "       [-2,  2,  2, -2],\n",
       "       [ 2, -2, -2, -2]])"
      ]
     },
     "execution_count": 170,
     "metadata": {},
     "output_type": "execute_result"
    }
   ],
   "source": [
    "np.where(arr > 0, 2, -2)"
   ]
  },
  {
   "cell_type": "markdown",
   "id": "0af57c15-03f4-4e84-bbff-7f2d824f4308",
   "metadata": {},
   "source": [
    "You can combine scalars and arrays when using `numpy.where`. For example, I can replace all positive values in `arr` with the constant 2, like so:\n",
    "\n"
   ]
  },
  {
   "cell_type": "code",
   "execution_count": 171,
   "id": "76e36907-7b95-43eb-be4d-211c73ee281c",
   "metadata": {},
   "outputs": [
    {
     "data": {
      "text/plain": [
       "array([[ 2.        ,  2.        , -0.95898831, -1.20938829],\n",
       "       [-1.41229201,  2.        ,  2.        , -0.65876032],\n",
       "       [-1.22867499,  2.        ,  2.        , -0.13081169],\n",
       "       [ 2.        , -0.09296246, -0.06615089, -1.10821447]])"
      ]
     },
     "execution_count": 171,
     "metadata": {},
     "output_type": "execute_result"
    }
   ],
   "source": [
    "np.where(arr > 0, 2, arr)  # set only positive values to 2"
   ]
  },
  {
   "cell_type": "markdown",
   "id": "09661188-52fa-45d7-9ca5-48f7daf35e84",
   "metadata": {},
   "source": [
    "### Mathematical and Statistical Methods\n",
    "\n",
    "A set of mathematical functions that compute statistics about an entire array or about the data along an axis are accessible as methods of the array class. You can use aggregations (sometimes called reductions) like `sum`, `mean`, and `std` (standard deviation) either by calling the array instance method or using the top-level NumPy function. When you use the NumPy function, like `numpy.sum`, you have to pass the array you want to aggregate as the first argument.\n",
    "\n",
    "Here I generate some normally distributed random data and compute some aggregate statistics:"
   ]
  },
  {
   "cell_type": "code",
   "execution_count": 172,
   "id": "00acb04f-0cf1-4422-947a-c783e7620832",
   "metadata": {},
   "outputs": [
    {
     "data": {
      "text/plain": [
       "array([[ 0.13595685,  1.34707776,  0.06114402,  0.0709146 ],\n",
       "       [ 0.43365454,  0.27748366,  0.53025239,  0.53672097],\n",
       "       [ 0.61835001, -0.79501746,  0.30003095, -1.60270159],\n",
       "       [ 0.26679883, -1.26162378, -0.07127081,  0.47404973],\n",
       "       [-0.41485376,  0.0977165 , -1.64041784, -0.85725882]])"
      ]
     },
     "execution_count": 172,
     "metadata": {},
     "output_type": "execute_result"
    }
   ],
   "source": [
    "arr = rng.standard_normal((5, 4))\n",
    "arr"
   ]
  },
  {
   "cell_type": "code",
   "execution_count": 173,
   "id": "097f6cc7-ab85-4bbf-9462-42f57aedb451",
   "metadata": {},
   "outputs": [
    {
     "data": {
      "text/plain": [
       "-0.0746496624139168"
      ]
     },
     "execution_count": 173,
     "metadata": {},
     "output_type": "execute_result"
    }
   ],
   "source": [
    "arr.mean()"
   ]
  },
  {
   "cell_type": "code",
   "execution_count": 174,
   "id": "f5bfbef2-54a1-4f47-9115-f69b9652a6a3",
   "metadata": {},
   "outputs": [
    {
     "data": {
      "text/plain": [
       "-0.0746496624139168"
      ]
     },
     "execution_count": 174,
     "metadata": {},
     "output_type": "execute_result"
    }
   ],
   "source": [
    "np.mean(arr)"
   ]
  },
  {
   "cell_type": "code",
   "execution_count": 175,
   "id": "5d7d331a-1f3c-4bc3-baab-8a231e8f420f",
   "metadata": {},
   "outputs": [
    {
     "data": {
      "text/plain": [
       "-1.492993248278336"
      ]
     },
     "execution_count": 175,
     "metadata": {},
     "output_type": "execute_result"
    }
   ],
   "source": [
    "arr.sum()"
   ]
  },
  {
   "cell_type": "markdown",
   "id": "652ea9a4-3fef-4b2d-ba46-ecf49c4c6ec9",
   "metadata": {},
   "source": [
    "Functions like `mean` and `sum` take an optional `axis` argument that computes the statistic over the given axis, resulting in an array with one less dimension:\n",
    "\n"
   ]
  },
  {
   "cell_type": "code",
   "execution_count": 176,
   "id": "abafd6f0-abe2-4be8-9cc5-45d4fe3b9333",
   "metadata": {},
   "outputs": [
    {
     "data": {
      "text/plain": [
       "array([ 0.40377331,  0.44452789, -0.36983452, -0.14801151, -0.70370348])"
      ]
     },
     "execution_count": 176,
     "metadata": {},
     "output_type": "execute_result"
    }
   ],
   "source": [
    "arr.mean(axis=1)"
   ]
  },
  {
   "cell_type": "code",
   "execution_count": 177,
   "id": "93f49f26-60f9-4137-85b4-19e32ed4a9fe",
   "metadata": {},
   "outputs": [
    {
     "data": {
      "text/plain": [
       "array([ 1.03990647, -0.33436331, -0.82026129, -1.37827512])"
      ]
     },
     "execution_count": 177,
     "metadata": {},
     "output_type": "execute_result"
    }
   ],
   "source": [
    "arr.sum(axis=0)"
   ]
  },
  {
   "cell_type": "markdown",
   "id": "a0460cd5-f676-436c-9a00-4d3d8621d255",
   "metadata": {},
   "source": [
    "Here, `arr.mean(axis=1)` means **\"compute mean across the columns,\"** where `arr.sum(axis=0)` means **\"compute sum down the rows.\"**\n",
    "\n",
    "Other methods like `cumsum` and `cumprod` do not aggregate, instead producing an array of the intermediate results:"
   ]
  },
  {
   "cell_type": "code",
   "execution_count": 179,
   "id": "a58d83f9-da86-411e-b70a-f981a735eaca",
   "metadata": {},
   "outputs": [
    {
     "data": {
      "text/plain": [
       "array([ 0,  1,  3,  6, 10, 15, 21, 28])"
      ]
     },
     "execution_count": 179,
     "metadata": {},
     "output_type": "execute_result"
    }
   ],
   "source": [
    "arr = np.array([0, 1, 2, 3, 4, 5, 6, 7])\n",
    "arr.cumsum()"
   ]
  },
  {
   "cell_type": "markdown",
   "id": "b66b175f-1d67-4ccc-9e1e-6cfbe79fb76a",
   "metadata": {},
   "source": [
    "In multidimensional arrays, accumulation functions like `cumsum` return an array of the same size but with the partial aggregates computed along the indicated axis according to each lower dimensional slice:\n",
    "\n"
   ]
  },
  {
   "cell_type": "code",
   "execution_count": 180,
   "id": "2429edfd-e78e-4897-ab2d-ab6d37a14bb7",
   "metadata": {},
   "outputs": [
    {
     "data": {
      "text/plain": [
       "array([[0, 1, 2],\n",
       "       [3, 4, 5],\n",
       "       [6, 7, 8]])"
      ]
     },
     "execution_count": 180,
     "metadata": {},
     "output_type": "execute_result"
    }
   ],
   "source": [
    "arr = np.array([[0, 1, 2], [3, 4, 5], [6, 7, 8]])\n",
    "arr"
   ]
  },
  {
   "cell_type": "markdown",
   "id": "a24d2f58-7732-4e5b-80bd-a01e5fbb86f8",
   "metadata": {},
   "source": [
    "The expression `arr.cumsum(axis=0)` computes the cumulative sum ***along the rows***, while `arr.cumsum(axis=1)` computes the sums ***along the columns***:\n",
    "\n"
   ]
  },
  {
   "cell_type": "code",
   "execution_count": 181,
   "id": "9605bcf7-3ee2-490d-947b-27b3e51ccf4f",
   "metadata": {},
   "outputs": [
    {
     "data": {
      "text/plain": [
       "array([[ 0,  1,  2],\n",
       "       [ 3,  5,  7],\n",
       "       [ 9, 12, 15]])"
      ]
     },
     "execution_count": 181,
     "metadata": {},
     "output_type": "execute_result"
    }
   ],
   "source": [
    "arr.cumsum(axis=0)"
   ]
  },
  {
   "cell_type": "code",
   "execution_count": 182,
   "id": "e12b3edb-2260-4c4b-96b4-77a47112d039",
   "metadata": {},
   "outputs": [
    {
     "data": {
      "text/plain": [
       "array([[ 0,  1,  3],\n",
       "       [ 3,  7, 12],\n",
       "       [ 6, 13, 21]])"
      ]
     },
     "execution_count": 182,
     "metadata": {},
     "output_type": "execute_result"
    }
   ],
   "source": [
    "arr.cumsum(axis=1)"
   ]
  },
  {
   "cell_type": "markdown",
   "id": "e1e1aa6e-f508-4809-a145-5fe3a68b49ca",
   "metadata": {},
   "source": [
    "See **[Table 4.6](https://wesmckinney.com/book/numpy-basics#tbl-table_statistical_methods)** for a full listing. We’ll see many examples of these methods in action in later chapters.\n",
    "\n",
    "\n",
    "### Methods for Boolean Arrays\n",
    "\n",
    "Boolean values are coerced to 1 (`True`) and 0 (`False`) in the preceding methods. Thus, `sum` is often used as a means of counting `True` values in a Boolean array:\n",
    "\n"
   ]
  },
  {
   "cell_type": "code",
   "execution_count": 183,
   "id": "99723041-7b83-4478-a1a4-b8cc3a3c5bba",
   "metadata": {},
   "outputs": [
    {
     "data": {
      "text/plain": [
       "49"
      ]
     },
     "execution_count": 183,
     "metadata": {},
     "output_type": "execute_result"
    }
   ],
   "source": [
    "arr = rng.standard_normal(100)\n",
    "\n",
    "(arr > 0).sum()  # Number of positive values"
   ]
  },
  {
   "cell_type": "code",
   "execution_count": 184,
   "id": "160fbc63-ee01-4f68-8e10-7b0227c66490",
   "metadata": {},
   "outputs": [
    {
     "data": {
      "text/plain": [
       "51"
      ]
     },
     "execution_count": 184,
     "metadata": {},
     "output_type": "execute_result"
    }
   ],
   "source": [
    "(arr <= 0).sum()  # Number of non-positive values"
   ]
  },
  {
   "cell_type": "markdown",
   "id": "2e22af13-c6c9-4ec6-8530-fc9d85243640",
   "metadata": {},
   "source": [
    "The parentheses here in the expression `(arr > 0).sum()` are necessary to be able to call `sum()` on the temporary result of `arr > 0`.\n",
    "\n",
    "Two additional methods, `any` and `all`, are useful especially for Boolean arrays. `any` tests whether one or more values in an array is `True`, while `all` checks if every value is `True`:"
   ]
  },
  {
   "cell_type": "code",
   "execution_count": 185,
   "id": "3a913e57-1731-45d9-8575-49e1d62f7433",
   "metadata": {},
   "outputs": [
    {
     "data": {
      "text/plain": [
       "True"
      ]
     },
     "execution_count": 185,
     "metadata": {},
     "output_type": "execute_result"
    }
   ],
   "source": [
    "bools = np.array([ False, False, True, False])\n",
    "\n",
    "bools.any()"
   ]
  },
  {
   "cell_type": "code",
   "execution_count": 186,
   "id": "c0dd27a7-a9ae-4bbc-87be-e0e42bf33cd8",
   "metadata": {},
   "outputs": [
    {
     "data": {
      "text/plain": [
       "False"
      ]
     },
     "execution_count": 186,
     "metadata": {},
     "output_type": "execute_result"
    }
   ],
   "source": [
    "bools.all()"
   ]
  },
  {
   "cell_type": "markdown",
   "id": "83d4d03c-5416-4214-aa69-5a71edcece72",
   "metadata": {},
   "source": [
    "These methods also work with non-Boolean arrays, where nonzero elements are treated as `True`.\n",
    "\n",
    "### Sorting\n",
    "\n",
    "Like Python’s built-in list type, NumPy arrays can be sorted in place with the `sort` method:"
   ]
  },
  {
   "cell_type": "code",
   "execution_count": 187,
   "id": "e6349825-f6bc-4b29-9272-d3fb568fdc84",
   "metadata": {},
   "outputs": [
    {
     "data": {
      "text/plain": [
       "array([-0.68391322, -0.72083767,  1.12062282, -0.05481416, -0.08241372,\n",
       "        0.9359865 ])"
      ]
     },
     "execution_count": 187,
     "metadata": {},
     "output_type": "execute_result"
    }
   ],
   "source": [
    "arr = rng.standard_normal(6)\n",
    "arr"
   ]
  },
  {
   "cell_type": "code",
   "execution_count": 189,
   "id": "0f691660-2200-4559-a694-3c4ec74ea263",
   "metadata": {},
   "outputs": [
    {
     "data": {
      "text/plain": [
       "array([-0.72083767, -0.68391322, -0.08241372, -0.05481416,  0.9359865 ,\n",
       "        1.12062282])"
      ]
     },
     "execution_count": 189,
     "metadata": {},
     "output_type": "execute_result"
    }
   ],
   "source": [
    "arr.sort()\n",
    "arr"
   ]
  },
  {
   "cell_type": "markdown",
   "id": "cc63c2b0-4208-4f9c-9312-d2d5de4ad4fe",
   "metadata": {},
   "source": [
    "You can sort each one-dimensional section of values in a multidimensional array in place along an axis by passing the axis number to `sort`. In this example data:\n",
    "\n"
   ]
  },
  {
   "cell_type": "code",
   "execution_count": 191,
   "id": "35453ce4-cf24-4992-9372-6ebb1508431b",
   "metadata": {},
   "outputs": [
    {
     "data": {
      "text/plain": [
       "array([[ 2.15031011, -0.15027022, -0.16116428],\n",
       "       [-1.07944248,  0.87796618,  0.22446741],\n",
       "       [-0.59159345,  0.2262628 ,  0.68618251],\n",
       "       [ 1.21500461,  0.21605944, -0.96482356],\n",
       "       [-0.5566078 , -2.29838764, -0.73208213]])"
      ]
     },
     "execution_count": 191,
     "metadata": {},
     "output_type": "execute_result"
    }
   ],
   "source": [
    "arr = rng.standard_normal((5, 3))\n",
    "arr"
   ]
  },
  {
   "cell_type": "markdown",
   "id": "ee6edc0d-d9d1-4f16-84e8-b29a3fb44e44",
   "metadata": {},
   "source": [
    "`arr.sort(axis=0)` sorts the values within each *column*, while `arr.sort(axis=1)` sorts across each *row*:\n",
    "\n"
   ]
  },
  {
   "cell_type": "code",
   "execution_count": 192,
   "id": "171f74a0-7a83-4e54-b5a1-4ed24a894599",
   "metadata": {},
   "outputs": [
    {
     "data": {
      "text/plain": [
       "array([[-1.07944248, -2.29838764, -0.96482356],\n",
       "       [-0.59159345, -0.15027022, -0.73208213],\n",
       "       [-0.5566078 ,  0.21605944, -0.16116428],\n",
       "       [ 1.21500461,  0.2262628 ,  0.22446741],\n",
       "       [ 2.15031011,  0.87796618,  0.68618251]])"
      ]
     },
     "execution_count": 192,
     "metadata": {},
     "output_type": "execute_result"
    }
   ],
   "source": [
    "arr.sort(axis=0)\n",
    "arr"
   ]
  },
  {
   "cell_type": "code",
   "execution_count": 193,
   "id": "ecbe16cb-c502-4878-b492-75d72359242f",
   "metadata": {},
   "outputs": [
    {
     "data": {
      "text/plain": [
       "array([[-2.29838764, -1.07944248, -0.96482356],\n",
       "       [-0.73208213, -0.59159345, -0.15027022],\n",
       "       [-0.5566078 , -0.16116428,  0.21605944],\n",
       "       [ 0.22446741,  0.2262628 ,  1.21500461],\n",
       "       [ 0.68618251,  0.87796618,  2.15031011]])"
      ]
     },
     "execution_count": 193,
     "metadata": {},
     "output_type": "execute_result"
    }
   ],
   "source": [
    "arr.sort(axis=1)\n",
    "arr"
   ]
  },
  {
   "cell_type": "markdown",
   "id": "ab16595d-3ea9-4282-b9b9-257939b13647",
   "metadata": {},
   "source": [
    "The top-level method `numpy.sort` returns a sorted **copy** of an array (like the Python built-in function `sorted`) instead of modifying the array in place. For example:\n",
    "\n"
   ]
  },
  {
   "cell_type": "code",
   "execution_count": 195,
   "id": "39c22a08-500d-48b3-b11b-584e553b1719",
   "metadata": {},
   "outputs": [
    {
     "data": {
      "text/plain": [
       "array([-10,  -3,   0,   1,   5,   7])"
      ]
     },
     "execution_count": 195,
     "metadata": {},
     "output_type": "execute_result"
    }
   ],
   "source": [
    "arr2 = np.array([5, -10, 7, 1, 0, -3])\n",
    "\n",
    "sorted_arr2 = np.sort(arr2)\n",
    "\n",
    "sorted_arr2"
   ]
  },
  {
   "cell_type": "markdown",
   "id": "8cde48b1-f211-4082-93be-f1506bd2e3c5",
   "metadata": {},
   "source": [
    "### Unique and Other Set Logic\n",
    "\n",
    "NumPy has some basic set operations for one-dimensional ndarrays. A commonly used one is `numpy.unique`, which returns the sorted unique values in an array:\n",
    "\n"
   ]
  },
  {
   "cell_type": "code",
   "execution_count": 196,
   "id": "0d8bb498-59d4-44bc-9103-8502303657fe",
   "metadata": {},
   "outputs": [
    {
     "data": {
      "text/plain": [
       "array(['Bob', 'Joe', 'Will'], dtype='<U4')"
      ]
     },
     "execution_count": 196,
     "metadata": {},
     "output_type": "execute_result"
    }
   ],
   "source": [
    "names = np.array([\"Bob\", \"Will\", \"Joe\", \"Bob\", \"Will\", \"Joe\", \"Joe\"])\n",
    "\n",
    "np.unique(names)"
   ]
  },
  {
   "cell_type": "code",
   "execution_count": 198,
   "id": "b8be1acf-2bd5-438e-b7b8-88902a81cedc",
   "metadata": {},
   "outputs": [
    {
     "data": {
      "text/plain": [
       "array([1, 2, 3, 4])"
      ]
     },
     "execution_count": 198,
     "metadata": {},
     "output_type": "execute_result"
    }
   ],
   "source": [
    "ints = np.array([3, 3, 3, 2, 2, 1, 1, 4, 4])\n",
    "\n",
    "np.unique(ints)"
   ]
  },
  {
   "cell_type": "markdown",
   "id": "0999af6c-ebd7-4ff5-a6e2-74892b91ff4f",
   "metadata": {},
   "source": [
    "Contrast `numpy.unique` with the pure Python alternative:\n",
    "\n"
   ]
  },
  {
   "cell_type": "code",
   "execution_count": 199,
   "id": "7aba460c-6f8c-403d-a01d-1190f2620247",
   "metadata": {},
   "outputs": [
    {
     "data": {
      "text/plain": [
       "['Bob', 'Joe', 'Will']"
      ]
     },
     "execution_count": 199,
     "metadata": {},
     "output_type": "execute_result"
    }
   ],
   "source": [
    "sorted(set(names))"
   ]
  },
  {
   "cell_type": "markdown",
   "id": "027d1aea-338c-4eed-be1a-86ba01ce2c9f",
   "metadata": {},
   "source": [
    "In many cases, the NumPy version is faster and returns a NumPy array rather than a Python list.\n",
    "\n",
    "Another function, `numpy.in1d`, tests membership of the values in one array in another, returning a Boolean array:"
   ]
  },
  {
   "cell_type": "code",
   "execution_count": 201,
   "id": "85ede56f-0924-4c73-b7ec-aaedf08778de",
   "metadata": {},
   "outputs": [
    {
     "data": {
      "text/plain": [
       "array([ True, False, False,  True,  True, False,  True])"
      ]
     },
     "execution_count": 201,
     "metadata": {},
     "output_type": "execute_result"
    }
   ],
   "source": [
    "values = np.array([6, 0, 0, 3, 2, 5, 6])\n",
    "\n",
    "np.in1d(values, [2, 3, 6])"
   ]
  },
  {
   "cell_type": "markdown",
   "id": "d946bfc9-36a4-4fd2-9a46-6db4138fae76",
   "metadata": {},
   "source": [
    "See **[Table 4.7](https://wesmckinney.com/book/numpy-basics#tbl-table_setops)** for a listing of array set operations in NumPy.\n",
    "\n",
    "\n",
    "\n",
    "## 4.5 File Input and Output with Arrays\n",
    "\n",
    "NumPy is able to save and load data to and from disk in some text or binary formats. In this section I discuss only NumPy's built-in binary format, since most users will prefer pandas and other tools for loading text or tabular data (see Ch 6: Data Loading, Storage, and File Formats for much more).\n",
    "\n",
    "`numpy.save` and `numpy.load` are the two workhorse functions for efficiently saving and loading array data on disk. Arrays are saved by default in an uncompressed raw binary format with file extension *.npy*:"
   ]
  },
  {
   "cell_type": "code",
   "execution_count": 203,
   "id": "85074160-0945-400b-abd8-bd629dc686b4",
   "metadata": {},
   "outputs": [],
   "source": [
    "arr = np.arange(10)\n",
    "\n",
    "np.save(\"some_array\", arr)"
   ]
  },
  {
   "cell_type": "markdown",
   "id": "50fc1377-3eff-4617-accf-cc8dd369a981",
   "metadata": {},
   "source": [
    "If the file path does not already end in *.npy*, the extension will be appended. The array on disk can then be loaded with `numpy.load`:\n",
    "\n"
   ]
  },
  {
   "cell_type": "code",
   "execution_count": 204,
   "id": "73729d21-1487-4d5a-8d2e-73151a7c3b07",
   "metadata": {},
   "outputs": [
    {
     "data": {
      "text/plain": [
       "array([0, 1, 2, 3, 4, 5, 6, 7, 8, 9])"
      ]
     },
     "execution_count": 204,
     "metadata": {},
     "output_type": "execute_result"
    }
   ],
   "source": [
    "np.load(\"some_array.npy\")"
   ]
  },
  {
   "cell_type": "markdown",
   "id": "6054520d-804e-4629-84b4-ba71c54de3a2",
   "metadata": {},
   "source": [
    "You can save multiple arrays in an uncompressed archive using `numpy.savez` and passing the arrays as keyword arguments:\n",
    "\n"
   ]
  },
  {
   "cell_type": "code",
   "execution_count": 206,
   "id": "e6c27448-099f-4408-bed3-78294b5d1123",
   "metadata": {},
   "outputs": [],
   "source": [
    "np.savez(\"array_archive.npz\", a=arr, b=arr)"
   ]
  },
  {
   "cell_type": "markdown",
   "id": "0903aa5f-d369-45a2-8af3-c1aca20a17e4",
   "metadata": {},
   "source": [
    "When loading an *.npz* file, you get back a dictionary-like object that loads the individual arrays lazily:\n",
    "\n"
   ]
  },
  {
   "cell_type": "code",
   "execution_count": 208,
   "id": "c705e029-440d-4ce4-a92b-5d5d8fecca65",
   "metadata": {},
   "outputs": [
    {
     "data": {
      "text/plain": [
       "array([0, 1, 2, 3, 4, 5, 6, 7, 8, 9])"
      ]
     },
     "execution_count": 208,
     "metadata": {},
     "output_type": "execute_result"
    }
   ],
   "source": [
    "arch = np.load(\"array_archive.npz\")\n",
    "\n",
    "arch[\"b\"]"
   ]
  },
  {
   "cell_type": "markdown",
   "id": "3873bd0f-257c-4fb9-a7be-20c99892f630",
   "metadata": {},
   "source": [
    "If your data compresses well, you may wish to use `numpy.savez_compressed` instead:\n",
    "\n"
   ]
  },
  {
   "cell_type": "code",
   "execution_count": 209,
   "id": "fc1ad488-027d-455f-8a14-285d116f5cf8",
   "metadata": {},
   "outputs": [],
   "source": [
    "np.savez_compressed(\"arrays_compressed.npz\", a=arr, b=arr)"
   ]
  },
  {
   "cell_type": "markdown",
   "id": "d557564b-6be9-4365-bceb-bb305963a1bf",
   "metadata": {},
   "source": [
    "## 4.6 Linear Algebra\n",
    "\n",
    "Linear algebra operations, like matrix multiplication, decompositions, determinants, and other square matrix math, are an important part of many array libraries. Multiplying two two-dimensional arrays with `*` is an element-wise product, while matrix multiplications require either using the `dot` function or the `@` infix operator. `dot` is both an array method and a function in the `numpy` namespace for doing matrix multiplication:\n",
    "\n"
   ]
  },
  {
   "cell_type": "code",
   "execution_count": 211,
   "id": "ae85e86e-80ba-4f84-bb92-f944331c6798",
   "metadata": {},
   "outputs": [
    {
     "data": {
      "text/plain": [
       "array([[1., 2., 3.],\n",
       "       [4., 5., 6.]])"
      ]
     },
     "execution_count": 211,
     "metadata": {},
     "output_type": "execute_result"
    }
   ],
   "source": [
    "x = np.array([[1., 2., 3.], [4., 5., 6.]])\n",
    "\n",
    "y = np.array([[6., 23.], [-1, 7], [8, 9]])\n",
    "\n",
    "x"
   ]
  },
  {
   "cell_type": "code",
   "execution_count": 212,
   "id": "464867c6-d180-4f28-89c4-b55f04795688",
   "metadata": {},
   "outputs": [
    {
     "data": {
      "text/plain": [
       "array([[ 6., 23.],\n",
       "       [-1.,  7.],\n",
       "       [ 8.,  9.]])"
      ]
     },
     "execution_count": 212,
     "metadata": {},
     "output_type": "execute_result"
    }
   ],
   "source": [
    "y"
   ]
  },
  {
   "cell_type": "code",
   "execution_count": 213,
   "id": "e13a9ac9-bad0-41a3-8b3d-37090865b6ae",
   "metadata": {},
   "outputs": [
    {
     "data": {
      "text/plain": [
       "array([[ 28.,  64.],\n",
       "       [ 67., 181.]])"
      ]
     },
     "execution_count": 213,
     "metadata": {},
     "output_type": "execute_result"
    }
   ],
   "source": [
    "x.dot(y)"
   ]
  },
  {
   "cell_type": "markdown",
   "id": "27619ddb-b666-406c-97cf-7b4ef743169e",
   "metadata": {},
   "source": [
    "`x.dot(y)` is equivalent to `np.dot(x, y)`:\n",
    "\n"
   ]
  },
  {
   "cell_type": "code",
   "execution_count": 214,
   "id": "e421880b-e2f6-491a-8fd4-19c60a04c1c6",
   "metadata": {},
   "outputs": [
    {
     "data": {
      "text/plain": [
       "array([[ 28.,  64.],\n",
       "       [ 67., 181.]])"
      ]
     },
     "execution_count": 214,
     "metadata": {},
     "output_type": "execute_result"
    }
   ],
   "source": [
    "np.dot(x, y)"
   ]
  },
  {
   "cell_type": "markdown",
   "id": "339d75b4-80a8-4eee-a2d7-e95c3e7e8f1d",
   "metadata": {},
   "source": [
    "A matrix product between a two-dimensional array and a suitably sized one-dimensional array results in a one-dimensional array:\n",
    "\n"
   ]
  },
  {
   "cell_type": "code",
   "execution_count": 215,
   "id": "4d9837e5-6701-4fd1-ab8a-6e77f386d67f",
   "metadata": {},
   "outputs": [
    {
     "data": {
      "text/plain": [
       "array([ 6., 15.])"
      ]
     },
     "execution_count": 215,
     "metadata": {},
     "output_type": "execute_result"
    }
   ],
   "source": [
    "x @ np.ones(3)"
   ]
  },
  {
   "cell_type": "markdown",
   "id": "6bd59e38-b8a3-461c-bef1-e859e54b610c",
   "metadata": {},
   "source": [
    "`numpy.linalg` has a standard set of matrix decompositions and things like inverse and determinant:\n",
    "\n"
   ]
  },
  {
   "cell_type": "code",
   "execution_count": 217,
   "id": "7612ed7e-d0fa-4009-8de5-305861e1e653",
   "metadata": {},
   "outputs": [
    {
     "data": {
      "text/plain": [
       "array([[ 3.16247024, -1.30210501, -1.97772606,  3.63289247, -0.5658301 ],\n",
       "       [-1.30210501,  0.77476388,  0.87927722, -1.69991162,  0.38592338],\n",
       "       [-1.97772606,  0.87927722,  1.40345115, -2.4216171 ,  0.46809272],\n",
       "       [ 3.63289247, -1.69991162, -2.4216171 ,  4.71301791, -0.8468894 ],\n",
       "       [-0.5658301 ,  0.38592338,  0.46809272, -0.8468894 ,  0.46208844]])"
      ]
     },
     "execution_count": 217,
     "metadata": {},
     "output_type": "execute_result"
    }
   ],
   "source": [
    "from numpy.linalg import inv, qr\n",
    "\n",
    "X = rng.standard_normal((5, 5))\n",
    "\n",
    "mat = X.T @ X\n",
    "\n",
    "inv(mat)"
   ]
  },
  {
   "cell_type": "code",
   "execution_count": 218,
   "id": "94986b77-e6de-4bf9-8fe3-629cd228388f",
   "metadata": {},
   "outputs": [
    {
     "data": {
      "text/plain": [
       "array([[ 1.00000000e+00, -2.38194384e-16,  7.25954678e-16,\n",
       "         8.72266631e-16, -9.52795051e-17],\n",
       "       [-1.74549010e-15,  1.00000000e+00,  1.34807715e-15,\n",
       "        -1.09120286e-15,  4.78391164e-16],\n",
       "       [-1.33460570e-15, -7.89057021e-16,  1.00000000e+00,\n",
       "        -1.09241068e-15,  1.60499764e-16],\n",
       "       [ 1.62270555e-15, -1.17661768e-16, -1.71456652e-15,\n",
       "         1.00000000e+00, -1.81958161e-16],\n",
       "       [ 7.98862224e-17,  2.84422574e-16, -1.46487594e-16,\n",
       "        -6.34623597e-16,  1.00000000e+00]])"
      ]
     },
     "execution_count": 218,
     "metadata": {},
     "output_type": "execute_result"
    }
   ],
   "source": [
    "mat @ inv(mat)"
   ]
  },
  {
   "cell_type": "markdown",
   "id": "789bdf3c-c42e-4abb-90f7-84df75548592",
   "metadata": {},
   "source": [
    "The expression `X.T.dot(X)` computes the `dot` product of `X` with its transpose `X.T`.\n",
    "\n",
    "See **[Table 4.8](https://wesmckinney.com/book/numpy-basics#tbl-table_numpy_linalg)** for a list of some of the most commonly used linear algebra functions.\n",
    "\n",
    "\n",
    "## 4.7 Example: Random Walks\n",
    "\n",
    "The simulation of *random walks* provides an illustrative application of utilizing array operations. Let’s first consider a simple random walk starting at 0 with steps of 1 and –1 occurring with equal probability.\n",
    "\n",
    "Here is a pure Python way to implement a single random walk with 1,000 steps using the built-in `random` module:"
   ]
  },
  {
   "cell_type": "code",
   "execution_count": 219,
   "id": "c6b47b23-033b-4274-9517-08ecf27555d5",
   "metadata": {},
   "outputs": [],
   "source": [
    "#! blockstart\n",
    "import random\n",
    "position = 0\n",
    "walk = [position]\n",
    "nsteps = 1000\n",
    "for _ in range(nsteps):\n",
    "    step = 1 if random.randint(0, 1) else -1\n",
    "    position += step\n",
    "    walk.append(position)\n",
    "#! blockend"
   ]
  },
  {
   "cell_type": "code",
   "execution_count": 220,
   "id": "e7053a57-5371-4c9f-b5b5-053804395514",
   "metadata": {},
   "outputs": [
    {
     "data": {
      "text/plain": [
       "[<matplotlib.lines.Line2D at 0x11f32d7f0>]"
      ]
     },
     "execution_count": 220,
     "metadata": {},
     "output_type": "execute_result"
    },
    {
     "data": {
      "image/png": "[encoded data removed]",
      "text/plain": [
       "<Figure size 640x480 with 1 Axes>"
      ]
     },
     "metadata": {},
     "output_type": "display_data"
    }
   ],
   "source": [
    "plt.plot(walk[:100])"
   ]
  },
  {
   "cell_type": "markdown",
   "id": "81d876ed-ab25-4692-a2bf-842847a7dc39",
   "metadata": {},
   "source": [
    "You might make the observation that `walk` is the cumulative sum of the random steps and could be evaluated as an array expression. Thus, I use the `numpy.random` module to draw 1,000 coin flips at once, set these to 1 and –1, and compute the cumulative sum:\n",
    "\n"
   ]
  },
  {
   "cell_type": "code",
   "execution_count": 221,
   "id": "6f92e1ca-eb39-4537-bd2b-be18d2dcebd3",
   "metadata": {},
   "outputs": [],
   "source": [
    "nsteps = 1000\n",
    "\n",
    "rng = np.random.default_rng(seed=12345) # fresh random generator\n",
    "\n",
    "draws = rng.integers(0, 2, size=nsteps)\n",
    "\n",
    "steps = np.where(draws == 0, 1, -1)\n",
    "\n",
    "walk = steps.cumsum()"
   ]
  },
  {
   "cell_type": "markdown",
   "id": "f015cb07-b87a-48f9-a39c-285ad90ac0b8",
   "metadata": {},
   "source": [
    "From this we can begin to extract statistics like the minimum and maximum value along the walk’s trajectory:\n",
    "\n"
   ]
  },
  {
   "cell_type": "code",
   "execution_count": 222,
   "id": "84b619e2-8315-40b0-aca2-6320627c7a11",
   "metadata": {},
   "outputs": [
    {
     "data": {
      "text/plain": [
       "-8"
      ]
     },
     "execution_count": 222,
     "metadata": {},
     "output_type": "execute_result"
    }
   ],
   "source": [
    "walk.min()"
   ]
  },
  {
   "cell_type": "code",
   "execution_count": 223,
   "id": "f81d6ce8-c4a3-4eeb-95d3-050bdcc783ae",
   "metadata": {},
   "outputs": [
    {
     "data": {
      "text/plain": [
       "50"
      ]
     },
     "execution_count": 223,
     "metadata": {},
     "output_type": "execute_result"
    }
   ],
   "source": [
    "walk.max()"
   ]
  },
  {
   "cell_type": "markdown",
   "id": "d9a0865d-15a2-4d35-8fa4-57e84db655be",
   "metadata": {},
   "source": [
    "A more complicated statistic is the *first crossing* time, the step at which the random walk reaches a particular value. Here we might want to know how long it took the random walk to get at least 10 steps away from the origin 0 in either direction. `np.abs(walk) >= 10` gives us a Boolean array indicating where the walk has reached or exceeded 10, but we want the index of the first 10 or –10. Turns out, we can compute this using `argmax`, which returns the first index of the maximum value in the Boolean array (`True` is the maximum value):\n",
    "\n"
   ]
  },
  {
   "cell_type": "code",
   "execution_count": 224,
   "id": "6de0e1da-3f38-4065-8fc4-4bde0f4feba2",
   "metadata": {},
   "outputs": [
    {
     "data": {
      "text/plain": [
       "156"
      ]
     },
     "execution_count": 224,
     "metadata": {},
     "output_type": "execute_result"
    }
   ],
   "source": [
    "(np.abs(walk) >  10).argmax()"
   ]
  },
  {
   "cell_type": "markdown",
   "id": "e2bd9f34-fae3-4a1a-a723-0638494c530b",
   "metadata": {},
   "source": [
    "Note that using `argmax` here is not always efficient because it always makes a full scan of the array. In this special case, once a `True` is observed we know it to be the maximum value.\n",
    "\n",
    "\n",
    "### Simulating Many Random Walks at Once\n",
    "\n",
    "If your goal was to simulate many random walks, say five thousand of them, you can generate all of the random walks with minor modifications to the preceding code. If passed a 2-tuple, the `numpy.random` functions will generate a two-dimensional array of draws, and we can compute the cumulative sum for each row to compute all five thousand random walks in one shot:\n",
    "\n"
   ]
  },
  {
   "cell_type": "code",
   "execution_count": 225,
   "id": "ef8c3d27-c0bd-4dfe-9952-46f76a21e368",
   "metadata": {},
   "outputs": [
    {
     "data": {
      "text/plain": [
       "array([[  1,   2,   3, ...,  22,  23,  22],\n",
       "       [  1,   0,  -1, ..., -50, -49, -48],\n",
       "       [  1,   2,   3, ...,  50,  49,  48],\n",
       "       ...,\n",
       "       [ -1,  -2,  -1, ..., -10,  -9, -10],\n",
       "       [ -1,  -2,  -3, ...,   8,   9,   8],\n",
       "       [ -1,   0,   1, ...,  -4,  -3,  -2]])"
      ]
     },
     "execution_count": 225,
     "metadata": {},
     "output_type": "execute_result"
    }
   ],
   "source": [
    "nwalks = 5000\n",
    "\n",
    "nsteps = 1000\n",
    "\n",
    "draws = rng.integers(0, 2, size=(nwalks, nsteps)) # 0 or 1\n",
    "\n",
    "steps = np.where(draws > 0, 1, -1)\n",
    "\n",
    "walks = steps.cumsum(axis=1)\n",
    "walks"
   ]
  },
  {
   "cell_type": "markdown",
   "id": "bd0ed76e-6355-46fb-a49b-4b6498ded397",
   "metadata": {},
   "source": [
    "Now, we can compute the maximum and minimum values obtained over all of the walks:\n",
    "\n"
   ]
  },
  {
   "cell_type": "code",
   "execution_count": 226,
   "id": "2ba74576-f5f6-48ef-a175-e7543cd6e586",
   "metadata": {},
   "outputs": [
    {
     "data": {
      "text/plain": [
       "-120"
      ]
     },
     "execution_count": 226,
     "metadata": {},
     "output_type": "execute_result"
    }
   ],
   "source": [
    "walks.min()"
   ]
  },
  {
   "cell_type": "code",
   "execution_count": 227,
   "id": "9ecde54c-bf91-4b40-b06e-51a658f4092b",
   "metadata": {},
   "outputs": [
    {
     "data": {
      "text/plain": [
       "114"
      ]
     },
     "execution_count": 227,
     "metadata": {},
     "output_type": "execute_result"
    }
   ],
   "source": [
    "walks.max()"
   ]
  },
  {
   "cell_type": "markdown",
   "id": "3c5c35a8-88d4-4a37-80d8-c4429bccbed4",
   "metadata": {},
   "source": [
    "Out of these walks, let’s compute the minimum crossing time to 30 or –30. This is slightly tricky because not all 5,000 of them reach 30. We can check this using the `any` method:\n",
    "\n"
   ]
  },
  {
   "cell_type": "code",
   "execution_count": 228,
   "id": "80595f1a-95ea-4fd1-b242-d5fd3f9dca45",
   "metadata": {},
   "outputs": [
    {
     "data": {
      "text/plain": [
       "array([False,  True,  True, ...,  True, False,  True])"
      ]
     },
     "execution_count": 228,
     "metadata": {},
     "output_type": "execute_result"
    }
   ],
   "source": [
    "hits30 = (np.abs(walks) >= 30).any(axis=1)\n",
    "hits30"
   ]
  },
  {
   "cell_type": "code",
   "execution_count": 229,
   "id": "e8c7859f-efe9-4b38-b1ae-a1f54a67b58a",
   "metadata": {},
   "outputs": [
    {
     "data": {
      "text/plain": [
       "3395"
      ]
     },
     "execution_count": 229,
     "metadata": {},
     "output_type": "execute_result"
    }
   ],
   "source": [
    "hits30.sum()  # number that hit 30 or -30"
   ]
  },
  {
   "cell_type": "markdown",
   "id": "fc4a5826-f3b4-4fb9-8dd3-5ce4fc1736b8",
   "metadata": {},
   "source": [
    "We can use this Boolean array to select the rows of `walks` that actually cross the absolute 30 level, and call `argmax` across axis 1 to get the crossing times:\n",
    "\n"
   ]
  },
  {
   "cell_type": "code",
   "execution_count": 230,
   "id": "792f00f5-97fe-40b4-abcb-adf78c322980",
   "metadata": {},
   "outputs": [
    {
     "data": {
      "text/plain": [
       "array([201, 491, 283, ..., 219, 259, 541])"
      ]
     },
     "execution_count": 230,
     "metadata": {},
     "output_type": "execute_result"
    }
   ],
   "source": [
    "crossing_times = (np.abs(walks[hits30]) >= 30).argmax(axis=1)\n",
    "crossing_times"
   ]
  },
  {
   "cell_type": "markdown",
   "id": "2b8e6650-b1e7-4900-a589-1507561e3226",
   "metadata": {},
   "source": [
    "Lastly, we compute the average minimum crossing time:\n",
    "\n"
   ]
  },
  {
   "cell_type": "code",
   "execution_count": 231,
   "id": "ff880a4e-052a-45aa-a440-6d231f5040d9",
   "metadata": {},
   "outputs": [
    {
     "data": {
      "text/plain": [
       "500.5699558173785"
      ]
     },
     "execution_count": 231,
     "metadata": {},
     "output_type": "execute_result"
    }
   ],
   "source": [
    "crossing_times.mean()"
   ]
  },
  {
   "cell_type": "markdown",
   "id": "f2bccb35-84aa-4917-b1e7-e5b6cbf4e5d5",
   "metadata": {},
   "source": [
    "Feel free to experiment with other distributions for the steps other than equal-sized coin flips. You need only use a different random generator method, like `standard_normal` to generate normally distributed steps with some mean and standard deviation:\n",
    "\n"
   ]
  },
  {
   "cell_type": "code",
   "execution_count": 232,
   "id": "0c1b253e-c53b-46a5-a675-b4d0745972f7",
   "metadata": {},
   "outputs": [],
   "source": [
    "draws = 0.25 * rng.standard_normal((nwalks, nsteps))"
   ]
  },
  {
   "cell_type": "markdown",
   "id": "bc32a2ba-aca7-4680-9e70-498dc1c5f3d2",
   "metadata": {},
   "source": [
    "**Note:** Keep in mind that this vectorized approach requires creating an array with `nwalks * nsteps` elements, which may use a large amount of memory for large simulations. If memory is more constrained, then a different approach will be required.\n",
    "\n"
   ]
  }
 ],
 "metadata": {
  "kernelspec": {
   "display_name": "Python 3 (ipykernel)",
   "language": "python",
   "name": "python3"
  },
  "language_info": {
   "codemirror_mode": {
    "name": "ipython",
    "version": 3
   },
   "file_extension": ".py",
   "mimetype": "text/x-python",
   "name": "python",
   "nbconvert_exporter": "python",
   "pygments_lexer": "ipython3",
   "version": "3.12.3"
  }
 },
 "nbformat": 4,
 "nbformat_minor": 5
}
