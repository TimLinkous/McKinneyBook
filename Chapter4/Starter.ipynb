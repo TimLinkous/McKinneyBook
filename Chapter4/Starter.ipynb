{
 "cells": [
  {
   "cell_type": "markdown",
   "id": "70fbe585-ceeb-4914-a8d5-18fd1d422218",
   "metadata": {},
   "source": [
    "# 4  NumPy Basics: Arrays and Vectorized Computation\n",
    "\n",
    "NumPy, short for ***Numerical Python***, is one of the most important foundational packages for numerical computing in Python. Many computational packages providing scientific functionality use NumPy's array objects as one of the standard interface *lingua francas* for data exchange. Much of the knowledge about NumPy that I cover is transferable to pandas as well.\n",
    "\n",
    "Here are some of the things you'll find in NumPy:\n",
    "\n",
    "- ndarray, an efficient multidimensional array providing fast array-oriented arithmetic operations and flexible broadcasting capabilities\n",
    "\n",
    "- Mathematical functions for fast operations on entire arrays of data without having to write loops\n",
    "\n",
    "- Tools for reading/writing array data to disk and working with memory-mapped files\n",
    "\n",
    "- Linear algebra, random number generation, and Fourier transform capabilities\n",
    "\n",
    "- A C API for connecting NumPy with libraries written in C, C++, or FORTRAN\n",
    "\n",
    "Because NumPy provides a comprehensive and well-documented C API, it is straightforward to pass data to external libraries written in a low-level language, and for external libraries to return data to Python as NumPy arrays. This feature has made Python a language of choice for wrapping legacy C, C++, or FORTRAN codebases and giving them a dynamic and accessible interface.\n",
    "\n",
    "While NumPy by itself does not provide modeling or scientific functionality, having an understanding of NumPy arrays and array-oriented computing will help you use tools with array computing semantics, like pandas, much more effectively. \n",
    "\n",
    "For most data analysis applications, the main areas of functionality I’ll focus on are:\n",
    "\n",
    "- Fast array-based operations for data munging and cleaning, subsetting and filtering, transformation, and any other kind of computation\n",
    "\n",
    "- Common array algorithms like sorting, unique, and set operations\n",
    "\n",
    "- Efficient descriptive statistics and aggregating/summarizing data\n",
    "\n",
    "- Data alignment and relational data manipulations for merging and joining heterogeneous datasets\n",
    "\n",
    "- Expressing conditional logic as array expressions instead of loops with `if-elif-else` branches\n",
    "\n",
    "- Group-wise data manipulations (aggregation, transformation, and function application)\n",
    "\n",
    "- \n",
    "\n",
    "While NumPy provides a computational foundation for general numerical data processing, many readers will want to use pandas as the basis for most kinds of statistics or analytics, especially on tabular data. Also, pandas provides some more domain-specific functionality like time series manipulation, which is not present in NumPy.\n",
    "\n",
    "\n",
    "One of the reasons NumPy is so important for numerical computations in Python is because it is designed for efficiency on large arrays of data. There are a number of reasons for this:\n",
    "\n",
    "- NumPy internally stores data in a contiguous block of memory, independent of other built-in Python objects. NumPy's library of algorithms written in the C language can operate on this memory without any type checking or other overhead. NumPy arrays also use much less memory than built-in Python sequences.\n",
    "\n",
    "- NumPy operations perform complex computations on entire arrays without the need for Python `for` loops, which can be slow for large sequences. NumPy is faster than regular Python code because its C-based algorithms avoid overhead present with regular interpreted Python code.\n",
    "\n"
   ]
  },
  {
   "cell_type": "markdown",
   "id": "1d087792-b309-4e3e-bc3c-9b8031a50a9f",
   "metadata": {},
   "source": [
    "## 4.1 The NumPy ndarray: A Multidimensional Array Object\n",
    "\n",
    "One of the key features of NumPy is its N-dimensional array object, or ndarray, which is a fast, flexible container for large datasets in Python. Arrays enable you to perform mathematical operations on whole blocks of data using similar syntax to the equivalent operations between scalar elements.\n",
    "\n",
    "To give you a flavor of how NumPy enables batch computations with similar syntax to scalar values on built-in Python objects, I first import NumPy and create a small array:"
   ]
  },
  {
   "cell_type": "code",
   "execution_count": 1,
   "id": "ae6f8ddd-a250-44c5-afa7-cfc6082889ed",
   "metadata": {},
   "outputs": [
    {
     "data": {
      "text/plain": [
       "array([[ 1.5, -0.1,  3. ],\n",
       "       [ 0. , -3. ,  6.5]])"
      ]
     },
     "execution_count": 1,
     "metadata": {},
     "output_type": "execute_result"
    }
   ],
   "source": [
    "import numpy as np\n",
    "\n",
    "data = np.array([[1.5, -0.1, 3], [0, -3, 6.5]])\n",
    "\n",
    "data"
   ]
  },
  {
   "cell_type": "markdown",
   "id": "0632efc0-65ac-406d-8831-58fecfa33410",
   "metadata": {},
   "source": [
    "I then write mathematical operations with `data`:"
   ]
  },
  {
   "cell_type": "code",
   "execution_count": 3,
   "id": "1b990fa5-8ed5-4ae8-bab3-a54d5a5b03fe",
   "metadata": {},
   "outputs": [
    {
     "data": {
      "text/plain": [
       "array([[ 15.,  -1.,  30.],\n",
       "       [  0., -30.,  65.]])"
      ]
     },
     "execution_count": 3,
     "metadata": {},
     "output_type": "execute_result"
    }
   ],
   "source": [
    "data * 10"
   ]
  },
  {
   "cell_type": "code",
   "execution_count": 4,
   "id": "66eece98-b402-42d9-8d77-4d0000780356",
   "metadata": {},
   "outputs": [
    {
     "data": {
      "text/plain": [
       "array([[ 3. , -0.2,  6. ],\n",
       "       [ 0. , -6. , 13. ]])"
      ]
     },
     "execution_count": 4,
     "metadata": {},
     "output_type": "execute_result"
    }
   ],
   "source": [
    "data + data"
   ]
  },
  {
   "cell_type": "markdown",
   "id": "7663f722-8968-4326-9a16-882a87650be9",
   "metadata": {},
   "source": [
    "In the first example, all of the elements have been multiplied by 10. In the second, the corresponding values in each \"cell\" in the array have been added to each other.\n",
    "\n",
    "\n",
    "An ndarray is a generic multidimensional container for homogeneous data; that is, all of the elements must be the same type. Every array has a `shape`, a tuple indicating the size of each dimension, and a `dtype, an object describing the data type of the array:"
   ]
  },
  {
   "cell_type": "code",
   "execution_count": 5,
   "id": "270fd0e2-8594-4370-ba6d-91acde3e7555",
   "metadata": {},
   "outputs": [
    {
     "data": {
      "text/plain": [
       "(2, 3)"
      ]
     },
     "execution_count": 5,
     "metadata": {},
     "output_type": "execute_result"
    }
   ],
   "source": [
    "data.shape"
   ]
  },
  {
   "cell_type": "code",
   "execution_count": 6,
   "id": "21e3ea39-4549-4be6-b024-2cb4af837726",
   "metadata": {},
   "outputs": [
    {
     "data": {
      "text/plain": [
       "dtype('float64')"
      ]
     },
     "execution_count": 6,
     "metadata": {},
     "output_type": "execute_result"
    }
   ],
   "source": [
    "data.dtype"
   ]
  },
  {
   "cell_type": "markdown",
   "id": "89861524-d9b9-4c13-acc9-91fde67a980b",
   "metadata": {},
   "source": [
    "***Note: Whenever you see “array,” “NumPy array,” or “ndarray” in the book text, in most cases they all refer to the ndarray object.***\n",
    "\n"
   ]
  },
  {
   "cell_type": "markdown",
   "id": "d16c68f2-32c9-47d5-bce2-dfcb243f5890",
   "metadata": {},
   "source": [
    "### Creating ndarrays\n",
    "\n",
    "The easiest way to create an array is to use the `array` function. This accepts any sequence-like object (including other arrays) and produces a new NumPy array containing the passed data. For example, a list is a good candidate for conversion:"
   ]
  },
  {
   "cell_type": "code",
   "execution_count": 7,
   "id": "480d8aaf-7ea9-4a3d-bc36-cc0899744cfc",
   "metadata": {},
   "outputs": [
    {
     "data": {
      "text/plain": [
       "array([6. , 7.5, 8. , 0. , 1. ])"
      ]
     },
     "execution_count": 7,
     "metadata": {},
     "output_type": "execute_result"
    }
   ],
   "source": [
    "data1 = [6, 7.5, 8, 0, 1]\n",
    "\n",
    "arr1 = np.array(data1)\n",
    "\n",
    "arr1"
   ]
  },
  {
   "cell_type": "markdown",
   "id": "93bdad45-9802-40bc-a2ad-b6c4bfca6205",
   "metadata": {},
   "source": [
    "Nested sequences, like a list of equal-length lists, will be converted into a multidimensional array:"
   ]
  },
  {
   "cell_type": "code",
   "execution_count": 8,
   "id": "5e8fa7fc-2ed2-4f5c-bcc8-79662688777f",
   "metadata": {},
   "outputs": [
    {
     "data": {
      "text/plain": [
       "array([[1, 2, 3, 4],\n",
       "       [5, 6, 7, 8]])"
      ]
     },
     "execution_count": 8,
     "metadata": {},
     "output_type": "execute_result"
    }
   ],
   "source": [
    "data2 = [[1, 2, 3, 4], [5, 6, 7, 8]]\n",
    "\n",
    "arr2 = np.array(data2)\n",
    "arr2"
   ]
  },
  {
   "cell_type": "markdown",
   "id": "1a05ca0b-37eb-49c5-a50b-0bbe10d7aea0",
   "metadata": {},
   "source": [
    "Since `data2` was a list of lists, the NumPy array `arr2` has two dimensions, with shape inferred from the data. We can confirm this by inspecting the `ndim` and `shape` attributes:"
   ]
  },
  {
   "cell_type": "code",
   "execution_count": 10,
   "id": "3e937ce9-8988-4faa-96e4-4ae431780759",
   "metadata": {},
   "outputs": [
    {
     "data": {
      "text/plain": [
       "2"
      ]
     },
     "execution_count": 10,
     "metadata": {},
     "output_type": "execute_result"
    }
   ],
   "source": [
    "arr2.ndim"
   ]
  },
  {
   "cell_type": "code",
   "execution_count": 12,
   "id": "795fe2fe-1121-416e-a4b9-b3da33f71381",
   "metadata": {},
   "outputs": [
    {
     "data": {
      "text/plain": [
       "(2, 4)"
      ]
     },
     "execution_count": 12,
     "metadata": {},
     "output_type": "execute_result"
    }
   ],
   "source": [
    "arr2.shape"
   ]
  },
  {
   "cell_type": "markdown",
   "id": "84ff2a38-9fab-4bb6-b1c1-75386a5ab19e",
   "metadata": {},
   "source": [
    "Unless explicitly specified (discussed in Data Types for ndarrays), `numpy.array` tries to infer a good data type for the array that it creates. The data type is stored in a special `dtype` metadata object; for example, in the previous two examples we have:"
   ]
  },
  {
   "cell_type": "code",
   "execution_count": 13,
   "id": "f1ed0ffa-1c26-4e7c-a758-2c02df8db8b2",
   "metadata": {},
   "outputs": [
    {
     "data": {
      "text/plain": [
       "dtype('float64')"
      ]
     },
     "execution_count": 13,
     "metadata": {},
     "output_type": "execute_result"
    }
   ],
   "source": [
    "arr1.dtype"
   ]
  },
  {
   "cell_type": "code",
   "execution_count": 14,
   "id": "8099c1e3-c153-4ce3-a9ff-e87bdfd08e70",
   "metadata": {},
   "outputs": [
    {
     "data": {
      "text/plain": [
       "dtype('int64')"
      ]
     },
     "execution_count": 14,
     "metadata": {},
     "output_type": "execute_result"
    }
   ],
   "source": [
    "arr2.dtype"
   ]
  },
  {
   "cell_type": "markdown",
   "id": "6354d466-4d93-45e5-972c-c1e34f44ad0f",
   "metadata": {},
   "source": [
    "In addition to `numpy.array`, there are a number of other functions for creating new arrays. As examples, `numpy.zeros` and `numpy.ones` create arrays of 0s or 1s, respectively, with a given length or shape. `numpy.empty` creates an array without initializing its values to any particular value. To create a higher dimensional array with these methods, pass a tuple for the shape:"
   ]
  },
  {
   "cell_type": "code",
   "execution_count": 15,
   "id": "dc8599a4-de1b-4d2f-a619-657062d6806a",
   "metadata": {},
   "outputs": [
    {
     "data": {
      "text/plain": [
       "array([0., 0., 0., 0., 0., 0., 0., 0., 0., 0.])"
      ]
     },
     "execution_count": 15,
     "metadata": {},
     "output_type": "execute_result"
    }
   ],
   "source": [
    "np.zeros(10)"
   ]
  },
  {
   "cell_type": "code",
   "execution_count": 16,
   "id": "f0eb9ae6-c1ed-492e-b6fc-ba17ec444c32",
   "metadata": {},
   "outputs": [
    {
     "data": {
      "text/plain": [
       "array([[0., 0., 0., 0., 0., 0.],\n",
       "       [0., 0., 0., 0., 0., 0.],\n",
       "       [0., 0., 0., 0., 0., 0.]])"
      ]
     },
     "execution_count": 16,
     "metadata": {},
     "output_type": "execute_result"
    }
   ],
   "source": [
    "np.zeros((3,6))"
   ]
  },
  {
   "cell_type": "code",
   "execution_count": 17,
   "id": "b3dfd357-0948-4d12-b779-7d814123dde4",
   "metadata": {},
   "outputs": [
    {
     "data": {
      "text/plain": [
       "array([[[-1.28822975e-231, -1.28822975e-231],\n",
       "        [ 2.96439388e-323,  0.00000000e+000],\n",
       "        [ 0.00000000e+000,  1.31370903e-076]],\n",
       "\n",
       "       [[ 7.73901886e-091,  4.50235751e+174],\n",
       "        [ 2.36716120e+179,  3.88578734e-057],\n",
       "        [ 3.99910963e+252,  8.34402861e-309]]])"
      ]
     },
     "execution_count": 17,
     "metadata": {},
     "output_type": "execute_result"
    }
   ],
   "source": [
    "np.empty((2, 3, 2))"
   ]
  },
  {
   "cell_type": "markdown",
   "id": "e8c73914-a489-46eb-9703-568d4cd5f1e7",
   "metadata": {},
   "source": [
    "It’s not safe to assume that `numpy.empty` will return an array of all zeros. This function returns uninitialized memory and thus may contain nonzero \"garbage\" values. You should use this function only if you intend to populate the new array with data.\n",
    "\n"
   ]
  },
  {
   "cell_type": "markdown",
   "id": "1d07f099-b807-4934-bc1c-c1cbae44f168",
   "metadata": {},
   "source": [
    "`numpy.arange` is an array-valued version of the built-in **Python `range` function**:"
   ]
  },
  {
   "cell_type": "code",
   "execution_count": 18,
   "id": "f1250c0d-d010-4eb4-8042-a4fd86750740",
   "metadata": {},
   "outputs": [
    {
     "data": {
      "text/plain": [
       "array([ 0,  1,  2,  3,  4,  5,  6,  7,  8,  9, 10, 11, 12, 13, 14])"
      ]
     },
     "execution_count": 18,
     "metadata": {},
     "output_type": "execute_result"
    }
   ],
   "source": [
    "np.arange(15)"
   ]
  },
  {
   "cell_type": "markdown",
   "id": "1eb78881-6c68-4af8-b158-296a195769e4",
   "metadata": {},
   "source": [
    "See [Table 4.1](https://wesmckinney.com/book/numpy-basics#tbl-table_array_ctor) for a short list of standard array creation functions. Since NumPy is focused on numerical computing, the data type, if not specified, will in many cases be *float64* (floating point).\n",
    "\n",
    "\n",
    "### Data Types for ndarrays\n",
    "\n",
    "The data type or `dtype` is a special object containing the information (or *metadata*, data about data) the ndarray needs to interpret a chunk of memory as a particular type of data:"
   ]
  },
  {
   "cell_type": "code",
   "execution_count": 20,
   "id": "217816bf-6b74-4a36-aad7-9a0f4376df3f",
   "metadata": {},
   "outputs": [
    {
     "data": {
      "text/plain": [
       "dtype('float64')"
      ]
     },
     "execution_count": 20,
     "metadata": {},
     "output_type": "execute_result"
    }
   ],
   "source": [
    "arr1 = np.array([1, 2, 3], dtype=np.float64)\n",
    "\n",
    "arr2 = np.array([1, 2, 3], dtype=np.int32)\n",
    "\n",
    "arr1.dtype"
   ]
  },
  {
   "cell_type": "code",
   "execution_count": 21,
   "id": "13b224f4-a157-4633-ac39-862e3229cddd",
   "metadata": {},
   "outputs": [
    {
     "data": {
      "text/plain": [
       "dtype('int32')"
      ]
     },
     "execution_count": 21,
     "metadata": {},
     "output_type": "execute_result"
    }
   ],
   "source": [
    "arr2.dtype"
   ]
  },
  {
   "cell_type": "markdown",
   "id": "a1bce744-821e-4d25-a4b0-c1ae90907cd2",
   "metadata": {},
   "source": [
    "Data types are a source of NumPy's flexibility for interacting with data coming from other systems. In most cases they provide a mapping directly onto an underlying disk or memory representation, which makes it possible to read and write binary streams of data to disk and to connect to code written in a low-level language like C or FORTRAN. The numerical data types are named the same way: a type name, like `float` or `int`, followed by a number indicating the number of bits per element. A standard double-precision floating-point value (what’s used under the hood in Python’s float object) takes up 8 bytes or 64 bits. Thus, this type is known in NumPy as `float64`. See **Table 4.2** for a full listing of NumPy’s supported data types.\n",
    "\n",
    "\n",
    "##### [Table 4.2: NumPy data types](https://wesmckinney.com/book/numpy-basics#tbl-table_array_dtypes)\n",
    "\n",
    "\n",
    "You can explicitly convert or *cast* an array from one data type to another using ndarray’s `astype` method:"
   ]
  },
  {
   "cell_type": "code",
   "execution_count": 22,
   "id": "f92bd9a4-a1d6-442a-8bea-edda20721da5",
   "metadata": {},
   "outputs": [
    {
     "data": {
      "text/plain": [
       "dtype('int64')"
      ]
     },
     "execution_count": 22,
     "metadata": {},
     "output_type": "execute_result"
    }
   ],
   "source": [
    "arr = np.array([1, 2, 3, 4, 5])\n",
    "arr.dtype"
   ]
  },
  {
   "cell_type": "code",
   "execution_count": 24,
   "id": "75ceb380-9f35-4f57-a1a9-dcd59dbcb389",
   "metadata": {},
   "outputs": [
    {
     "data": {
      "text/plain": [
       "array([1., 2., 3., 4., 5.])"
      ]
     },
     "execution_count": 24,
     "metadata": {},
     "output_type": "execute_result"
    }
   ],
   "source": [
    "float_arr = arr.astype(np.float64)\n",
    "float_arr"
   ]
  },
  {
   "cell_type": "code",
   "execution_count": 25,
   "id": "bb7e43e9-6a73-45e4-969d-508cec310a03",
   "metadata": {},
   "outputs": [
    {
     "data": {
      "text/plain": [
       "dtype('float64')"
      ]
     },
     "execution_count": 25,
     "metadata": {},
     "output_type": "execute_result"
    }
   ],
   "source": [
    "float_arr.dtype"
   ]
  },
  {
   "cell_type": "markdown",
   "id": "96da349a-ee5d-47c9-a108-ccbeb2e0145f",
   "metadata": {},
   "source": [
    "In this example, integers were cast to floating point. If I cast some floating-point numbers to be of integer data type, the decimal part will be truncated:"
   ]
  },
  {
   "cell_type": "code",
   "execution_count": 26,
   "id": "9a50e24a-81e2-4cae-9cb2-faba400f931c",
   "metadata": {},
   "outputs": [
    {
     "data": {
      "text/plain": [
       "array([ 3.7, -1.2, -2.6,  0.5, 12.9, 10.1])"
      ]
     },
     "execution_count": 26,
     "metadata": {},
     "output_type": "execute_result"
    }
   ],
   "source": [
    "arr = np.array([3.7, -1.2, -2.6, 0.5, 12.9, 10.1])\n",
    "\n",
    "arr"
   ]
  },
  {
   "cell_type": "code",
   "execution_count": 27,
   "id": "3b3afa0f-8e16-45ac-b977-a7964b31aaa1",
   "metadata": {},
   "outputs": [
    {
     "data": {
      "text/plain": [
       "array([ 3, -1, -2,  0, 12, 10], dtype=int32)"
      ]
     },
     "execution_count": 27,
     "metadata": {},
     "output_type": "execute_result"
    }
   ],
   "source": [
    "arr.astype(np.int32)"
   ]
  },
  {
   "cell_type": "markdown",
   "id": "285d95ca-42f1-451c-b32e-73a92f99b248",
   "metadata": {},
   "source": [
    "If you have an array of strings representing numbers, you can use `astype` to convert them to numeric form:"
   ]
  },
  {
   "cell_type": "code",
   "execution_count": 29,
   "id": "fbb3af81-2fd7-41e9-85ce-65de6b0b09c6",
   "metadata": {},
   "outputs": [
    {
     "data": {
      "text/plain": [
       "array([ 1.25, -9.6 , 42.  ])"
      ]
     },
     "execution_count": 29,
     "metadata": {},
     "output_type": "execute_result"
    }
   ],
   "source": [
    "numeric_strings = np.array([\"1.25\", \"-9.6\", \"42\"], dtype=np.string_)\n",
    "\n",
    "numeric_strings.astype(float)"
   ]
  },
  {
   "cell_type": "markdown",
   "id": "46f8ca89-c5cc-418e-84dc-91d579414817",
   "metadata": {},
   "source": [
    "Be cautious when using the `numpy.string_` type, as string data in NumPy is fixed size and may truncate input without warning. pandas has more intuitive out-of-the-box behavior on non-numeric data."
   ]
  },
  {
   "cell_type": "markdown",
   "id": "ea33ed1a-5951-4d64-bd5f-9ec4760ba0bf",
   "metadata": {},
   "source": [
    "If casting were to fail for some reason (like a string that cannot be converted to `float64`), a `ValueError` will be raised. Before, I was a bit lazy and wrote `float` instead of `np.float64`; NumPy aliases the Python types to its own equivalent data types.\n",
    "\n",
    "You can also use another array’s `dtype` attribute:"
   ]
  },
  {
   "cell_type": "code",
   "execution_count": 30,
   "id": "36c7573e-0a5e-41fe-aec6-aa541e5c9a31",
   "metadata": {},
   "outputs": [
    {
     "data": {
      "text/plain": [
       "array([0., 1., 2., 3., 4., 5., 6., 7., 8., 9.])"
      ]
     },
     "execution_count": 30,
     "metadata": {},
     "output_type": "execute_result"
    }
   ],
   "source": [
    "int_array = np.arange(10)\n",
    "\n",
    "calibers = np.array([.22, .270, .357, .380, .44, .50], dtype=np.float64)\n",
    "int_array.astype(calibers.dtype)"
   ]
  },
  {
   "cell_type": "markdown",
   "id": "e13a073f-1c98-4362-9556-f5acacf04d8e",
   "metadata": {},
   "source": [
    "There are shorthand type code strings you can also use to refer to a `dtype`:"
   ]
  },
  {
   "cell_type": "code",
   "execution_count": 32,
   "id": "14db9c2b-91ff-4c08-8052-be622e03fdb7",
   "metadata": {},
   "outputs": [
    {
     "data": {
      "text/plain": [
       "array([0, 0, 0, 0, 0, 0, 0, 0], dtype=uint32)"
      ]
     },
     "execution_count": 32,
     "metadata": {},
     "output_type": "execute_result"
    }
   ],
   "source": [
    "zeros_unit32 = np.zeros(8, dtype=\"u4\")\n",
    "\n",
    "zeros_unit32"
   ]
  },
  {
   "cell_type": "markdown",
   "id": "4f8a80c0-6ede-4e25-be2a-4253bec8b5c9",
   "metadata": {},
   "source": [
    "Calling `astype` ***always*** creates a new array (a copy of the data), even if the new data type is the same as the old data type."
   ]
  },
  {
   "cell_type": "code",
   "execution_count": null,
   "id": "efabeaf1-b39d-4976-87a5-2659c151b640",
   "metadata": {},
   "outputs": [],
   "source": []
  }
 ],
 "metadata": {
  "kernelspec": {
   "display_name": "Python 3 (ipykernel)",
   "language": "python",
   "name": "python3"
  },
  "language_info": {
   "codemirror_mode": {
    "name": "ipython",
    "version": 3
   },
   "file_extension": ".py",
   "mimetype": "text/x-python",
   "name": "python",
   "nbconvert_exporter": "python",
   "pygments_lexer": "ipython3",
   "version": "3.12.3"
  }
 },
 "nbformat": 4,
 "nbformat_minor": 5
}
